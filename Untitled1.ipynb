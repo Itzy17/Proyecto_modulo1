{
 "cells": [
  {
   "cell_type": "code",
   "execution_count": 1,
   "metadata": {},
   "outputs": [],
   "source": [
    "# Importamos librerías\n",
    "import pandas as pd\n",
    "import numpy as np \n",
    "import scipy.stats as st\n",
    "import matplotlib.pyplot as plt\n",
    "import seaborn as sns\n",
    "import scipy.special as sps \n",
    "import statsmodels.api as sm\n",
    "import sklearn; #print( \"  scikit-learn:\", sklearn.__version__)\n",
    "import scipy; #print (\"  scipy:\", scipy.__version__)\n",
    "import statsmodels; #print( \"  statsmodels:\", statsmodels.__version__)\n",
    "from scipy import optimize\n",
    "from scipy.stats import beta\n",
    "from math import factorial as fac\n",
    "from scipy.stats import erlang\n",
    "from sklearn.preprocessing import PolynomialFeatures\n",
    "from sklearn import linear_model\n",
    "from scipy.stats.distributions import norm\n",
    "from sklearn.neighbors import KernelDensity\n",
    "from sklearn.model_selection import GridSearchCV\n",
    "from sklearn.model_selection import GridSearchCV\n",
    "from sklearn.neighbors import KernelDensity\n",
    "from scipy.stats import gaussian_kde\n",
    "from statsmodels.nonparametric.kde import KDEUnivariate\n",
    "from statsmodels.nonparametric.kernel_density import KDEMultivariate    "
   ]
  },
  {
   "cell_type": "code",
   "execution_count": 45,
   "metadata": {},
   "outputs": [],
   "source": [
    "# Funciones que podemos utilizar\n",
    "# Creamos la función que crea muestras distribuidas exponencialmente\n",
    "def D_exponential(theta,N):\n",
    "    return -np.log(np.random.random(N))*theta\n",
    "\n",
    "def Multi_Graph_plot(datos, etiquetas, titulo, y_label):\n",
    "    [plt.plot(datos.iloc[:,i], label = etiquetas[i]) for i in range(len(datos.iloc[0]))]\n",
    "    plt.title(titulo)   # Establece el título del gráfico\n",
    "    plt.xlabel(\"Time\")   # Establece el título del eje x: abscisa\n",
    "    plt.xticks(rotation=90)\n",
    "    plt.ylabel(y_label)   # Establece el título del eje y: ordenada\n",
    "    plt.legend(loc='upper left') \n",
    "    \n",
    "#Funcion histograma\n",
    "def Graph_hist(datos, titulo, y_label):\n",
    "    [freq,x,p] = plt.hist(datos, density = True, alpha = 0.3, bins = 40)\n",
    "    plt.title(titulo)   # Establece el título del gráfico\n",
    "    plt.xlabel(\"Time\")   # Establece el título del eje x: abscisa\n",
    "    plt.ylabel(y_label)   # Establece el título del eje y: ordenada\n",
    "    plt.show()\n",
    "    return freq, x, p\n",
    "\n",
    "def plot_histogram_discrete(distribucion:'distribución a graficar histograma',\n",
    "                            label:'label del legend'):\n",
    "    # len(set(distribucion)) cuenta la cantidad de elementos distintos de la variable 'distribucion'\n",
    "    plt.figure(figsize=[8,4])\n",
    "    y,x = np.histogram(distribucion,bins = len(set(distribucion))) \n",
    "    plt.bar(list(set(distribucion)),y,label=label)\n",
    "    plt.legend()\n",
    "    plt.show()\n",
    "\n",
    "def Hist_emp_Best_dist_line(Y, best_dist, title):\n",
    "    dist = getattr(st, best_dist)\n",
    "    x = np.linspace(min(Y),max(Y), len(Y))\n",
    "    param = dist.fit(Y)\n",
    "    pdf_fitted = dist.pdf(x, *param[:-2], loc=param[-2], scale=param[-1])\n",
    "    \n",
    "    #Graficas\n",
    "    plt.plot(x,pdf_fitted)\n",
    "    plt.hist(Y, alpha = 0.5, density = True, bins=15)\n",
    "    plt.title(title) \n",
    "    \n",
    "def Gen_distr_discreta(U:'vector de números aleatorios',\n",
    "                       p_acum: 'P.Acumulada de la distribución a generar'):\n",
    "    '''Tener en cuenta que este arreglo cuenta números empezando del 0'''\n",
    "    v = np.array(list(map(lambda j:sum(1 for i in p_acum if i<U[j]),range(N))))\n",
    "    return v\n",
    "    \n",
    "# Función que calcula la probabilidad acumulada optimizada    \n",
    "def P_acum_Binomial_o(n,p):\n",
    "    Pr = np.zeros(n)\n",
    "    Pr[0] = (1-p)**n\n",
    "    def pr(i):\n",
    "        nonlocal Pr\n",
    "        c  = p/(1-p)\n",
    "        Pr[i+1]=(c*(n-i)/(i+1))*Pr[i]\n",
    "        \n",
    "    # Lleno el vector Pr usando compresión de listas\n",
    "    [pr(i) for i in range(n-1)]\n",
    "    return np.cumsum(Pr)\n",
    "\n",
    "# Función para crear variables aleatorias Erlang\n",
    "def D_erlang(theta:'media distrubucion',k,N):\n",
    "    f = np.random.rand(N,k)  # Matriz de variables aleatorias de dim N*k mejora la velocidad del algoritmo\n",
    "    y =list(map(lambda i:-(theta) * np.log(np.prod(f[i,:])),range(N)))\n",
    "    return y\n",
    "\n",
    "def plot_hist(theta, k, N):\n",
    "    r1 = D_erlang(theta, k, N)\n",
    "    y, x, _ = plt.hist(r1, bins=50, density=True)\n",
    "    x = np.arange(0, 30, 0.01)\n",
    "    y2 = x**(k-1)*(np.exp(-x/theta) /(sps.gamma(k)*theta**k))\n",
    "    plt.plot(x,y2,'r--')\n",
    "    plt.show()\n",
    "    \n",
    "def best_fit_distribution(data, bins=200, ax=None):\n",
    "    \"\"\"Model data by finding best fit distribution to data\"\"\"\n",
    "\n",
    "    y, x = np.histogram(data, bins=bins, density=True)\n",
    "    x = (x + np.roll(x, -1))[:-1] / 2.0\n",
    "\n",
    "\n",
    "    DISTRIBUTIONS = [\n",
    "    st.alpha,st.anglit,st.arcsine,st.beta,st.betaprime,st.bradford,st.burr,st.cauchy,st.chi,st.chi2,st.cosine,\n",
    "    st.dgamma,st.dweibull,st.erlang,st.expon,st.exponnorm,st.exponweib,st.exponpow,st.f,st.fatiguelife,st.fisk,\n",
    "    st.foldcauchy,st.foldnorm,st.frechet_r,st.frechet_l,st.genlogistic,st.genpareto,st.gennorm,st.genexpon,\n",
    "    st.genextreme,st.gausshyper,st.gamma,st.gengamma,st.genhalflogistic,st.gilbrat,st.gompertz,st.gumbel_r,\n",
    "    st.gumbel_l,st.halfcauchy,st.halflogistic,st.halfnorm,st.halfgennorm,st.hypsecant,st.invgamma,st.invgauss,\n",
    "    st.invweibull,st.johnsonsb,st.johnsonsu,st.ksone,st.kstwobign,st.laplace,st.levy,st.levy_l,st.levy_stable,\n",
    "    st.logistic,st.loggamma,st.loglaplace,st.lognorm,st.lomax,st.maxwell,st.mielke,st.nakagami,st.ncx2,st.ncf,\n",
    "    st.nct,st.norm,st.pareto,st.pearson3,st.powerlaw,st.powerlognorm,st.powernorm,st.rdist,st.reciprocal,\n",
    "    st.rayleigh,st.rice,st.recipinvgauss,st.semicircular,st.t,st.triang,st.truncexpon,st.truncnorm,st.tukeylambda,\n",
    "    st.uniform,st.vonmises,st.vonmises_line,st.wald,st.weibull_min,st.weibull_max,st.wrapcauchy\n",
    "    ]\n",
    "\n",
    "\n",
    "    best_distribution = st.norm\n",
    "    best_params = (0.0, 1.0)\n",
    "    best_sse = np.inf\n",
    "\n",
    "    #Estimamos parametros\n",
    "    for distribution in DISTRIBUTIONS:\n",
    "\n",
    "    # aplicamos la funcion fit a los datos\n",
    "        try:\n",
    "\n",
    "            with warnings.catch_warnings():\n",
    "                warnings.filterwarnings('ignore')\n",
    "\n",
    "                params = distribution.fit(data)\n",
    "\n",
    "                arg = params[:-2]\n",
    "                loc = params[-2]\n",
    "                scale = params[-1]\n",
    "\n",
    "                pdf = distribution.pdf(x, loc=loc, scale=scale, *arg)\n",
    "                sse = np.sum(np.power(y - pdf, 2.0))\n",
    "\n",
    "\n",
    "                # Verificamos si le queda mejor la distribucion a los datos\n",
    "                if best_sse > sse > 0:\n",
    "                    best_distribution = distribution\n",
    "                    best_params = params\n",
    "                    best_sse = sse\n",
    "\n",
    "        except Exception:\n",
    "            pass\n",
    "\n",
    "    return (best_distribution.name, best_params)\n",
    "\n",
    "def obtencionVariablesAleatorias(Instancias, N=200):\n",
    "    t = lambda x: max(Instancias.pdf) * np.ones(len(x))\n",
    "    x = np.arange(0, Instancias.max_data, 1)\n",
    "    \n",
    "    plt.plot(x, Instancias.f(x), label = \"f[x]\")\n",
    "    plt.plot(x, t(x), label=\"t[x]\")\n",
    "    plt.legend()\n",
    "    \n",
    "    R2 = np.random.rand(N)\n",
    "    R1 = np.random.uniform(0, Instancias.max_data, N)\n",
    "    random_variables = Acep_rechazo(R2,R1,Instancia.f, t)\n",
    "    return random_variables\n",
    "                                                \n",
    "def obtencionVariablesAleatorias(Instancias, N=10000):\n",
    "    t = lambda x: max(Instancias.pdf) * np.ones(len(x))\n",
    "    x = np.arange(0, Instancias.max_data, 1)\n",
    "    \n",
    "    R2 = np.random.rand(N)\n",
    "    R1 = np.random.uniform(0, Instancias.max_data, N)\n",
    "    random_variables = Acep_rechazo2(R2,R1,Instancia.f, t)\n",
    "    return print(random_variables.mean())\n",
    "                                                \n",
    "# Función de aceptación y rechazo usando compresión de listas\n",
    "def Acep_rechazo(R2:'Variables distruidas U~U(0,1)',\n",
    "                 R1:'Variables distribuidas como g(x)',\n",
    "                 f:'función objetivo a generar',\n",
    "                 t:'función que mayora a f'):\n",
    "#     R1 = np.random.rand(N)\n",
    "    f_x = f(R1)\n",
    "    t_x = t(R1)\n",
    "    condition = R2*t_x <=f_x\n",
    "    [plt.plot(R1[i],R2[i]*t_x[i],'ob') if condition[i] else plt.plot(R1[i],R2[i]*t_x[i],'o') \\\n",
    "         for i in range(len(R1))]\n",
    "    return [R1[i] for i in range(len(R1)) if condition[i]]\n",
    "\n",
    "# Función de aceptación y rechazo usando compresión de listas\n",
    "def Acep_rechazo2(R2:'Variables distruidas U~U(0,1)',\n",
    "                 R1:'Variables distribuidas como g(x)',\n",
    "                 f:'función objetivo a generar',\n",
    "                 t:'función que mayora a f'):\n",
    "#     R1 = np.random.rand(N)\n",
    "    f_x = f(R1)\n",
    "    t_x = t(R1)\n",
    "    condition = R2*t_x <=f_x\n",
    "    j = 0\n",
    "    i = 0\n",
    "    k = np.zeros(N)\n",
    "    while j < N:\n",
    "        if condition[i]:\n",
    "            k[j] = R1[i]\n",
    "            j = j + 1\n",
    "            i = i + 1\n",
    "        else:\n",
    "            i = i + 1\n",
    "    return k\n",
    "\n",
    "#Realizar las variables aleatorias \n",
    "class Distribucion():\n",
    "    def init(self, lista, titulo):\n",
    "        self.data = lista\n",
    "        self.title = titulo\n",
    "        self.pdf, self.grid = trans_a_kernel2(lista,titulo)\n",
    "        self.max_data = max(lista)\n",
    "        \n",
    "    def f(self, x):\n",
    "        return np.exp(np.array([self.grid.best_estimator_.score_samples(i)[0] for i in x ]))\n",
    "    \n",
    "#creando la función\n",
    "global pdf\n",
    "def kernel(lista: \"Insertar la lista con los datos\", \n",
    "                   titulo: \"Insertar lista de títulos\"):\n",
    "    grid = GridSearchCV(KernelDensity(), #Busca el ancho óptimo.\n",
    "                       {\"bandwidth\": np.linspace(0.1,lista.max(),1000)},\n",
    "                       cv=20) #20-fold cross-validation\n",
    "    grid.fit(lista[:,None])\n",
    "    kde = grid.best_estimator_\n",
    "    pdf = np.exp(kde.score_samples(np.linspace(0.1,lista.max(),1000)[:, None])) #Kernel\n",
    "    \n",
    "    plt.figure()\n",
    "    plt.plot(np.linspace(0.1,lista.max(),1000), pdf, linewidth=3, alpha=0.5, label = \"bw=%.2f\" % kde.bandwidth)\n",
    "    plt.hist(lista,10,fc=\"gray\",histtype=\"stepfilled\",alpha=0.3, density=True)\n",
    "    plt.legend(loc=\"upper left\")\n",
    "    plt.title(titulo)\n",
    "    plt.show()\n",
    "    return pdf, grid\n",
    "\n",
    "def calc_KDE(data, title):\n",
    "    #Calculat KDE\n",
    "    kde = sm.nonparametric.KDEUnivariate(data)\n",
    "    kde.fit(kernel='gau', bw='silverman')\n",
    "    #Graph\n",
    "    plt.plot(kde.support, kde.density, lw=3, label='KDE from samples', zorder=10)\n",
    "    plt.hist(data, density = True, alpha = 0.4, bins = 5)\n",
    "    plt.title(title)\n",
    "    return kde\n",
    "\n",
    "def kde_sklearn(x, x_grid, bandwidth=0.2, **kwargs):\n",
    "    \"\"\"Kernel Density Estimation with Scikit-learn\"\"\"\n",
    "    kde_skl = KernelDensity(bandwidth=bandwidth, **kwargs)\n",
    "    kde_skl.fit(x[:, np.newaxis])\n",
    "    # score_samples() returns the log-likelihood of the samples\n",
    "    log_pdf = kde_skl.score_samples(x_grid[:, np.newaxis])\n",
    "    return np.exp(log_pdf)\n",
    "\n",
    "def kde_sklearn1(x, x_grid, bandwidth=0.2, **kwargs):\n",
    "    \"\"\"Kernel Density Estimation with Scikit-learn\"\"\"\n",
    "    kde_skl = KernelDensity(bandwidth=bandwidth, **kwargs)\n",
    "    kde_skl.fit(x[:, np.newaxis])\n",
    "    # score_samples() returns the log-likelihood of the samples\n",
    "    pdf = lambda x: np.exp(kde_skl.score_samples(x[:, np.newaxis]))\n",
    "    return pdf\n",
    "\n",
    "def kde_scipy(x, x_grid, bandwidth=0.2, **kwargs):\n",
    "    \"\"\"Kernel Density Estimation with Scipy\"\"\"\n",
    "    # Note that scipy weights its bandwidth by the covariance of the\n",
    "    # input data.  To make the results comparable to the other methods,\n",
    "    # we divide the bandwidth by the sample standard deviation here.\n",
    "    kde = gaussian_kde(x, bw_method=bandwidth / x.std(ddof=1), **kwargs)\n",
    "    return kde.evaluate(x_grid)\n",
    "\n",
    "\n",
    "def kde_statsmodels_u(x, x_grid, bandwidth=0.2, **kwargs):\n",
    "    \"\"\"Univariate Kernel Density Estimation with Statsmodels\"\"\"\n",
    "    kde = KDEUnivariate(x)\n",
    "    kde.fit(bw=bandwidth, **kwargs)\n",
    "    return kde.evaluate(x_grid)\n",
    "    \n",
    "    \n",
    "def kde_statsmodels_m(x, x_grid, bandwidth=0.2, **kwargs):\n",
    "    \"\"\"Multivariate Kernel Density Estimation with Statsmodels\"\"\"\n",
    "    kde = KDEMultivariate(x, bw = 'cv_ml',#bw=bandwidth * np.ones_like(x),\n",
    "                          var_type='c', **kwargs)\n",
    "    return kde.pdf(x_grid)\n",
    "\n",
    "kde_funcs = [kde_statsmodels_u, kde_statsmodels_m, kde_scipy, kde_sklearn]\n",
    "kde_funcnames = ['Statsmodels-U', 'Statsmodels-M', 'Scipy', 'Scikit-learn']"
   ]
  },
  {
   "cell_type": "code",
   "execution_count": 3,
   "metadata": {},
   "outputs": [
    {
     "data": {
      "text/html": [
       "<div>\n",
       "<style scoped>\n",
       "    .dataframe tbody tr th:only-of-type {\n",
       "        vertical-align: middle;\n",
       "    }\n",
       "\n",
       "    .dataframe tbody tr th {\n",
       "        vertical-align: top;\n",
       "    }\n",
       "\n",
       "    .dataframe thead th {\n",
       "        text-align: right;\n",
       "    }\n",
       "</style>\n",
       "<table border=\"1\" class=\"dataframe\">\n",
       "  <thead>\n",
       "    <tr style=\"text-align: right;\">\n",
       "      <th></th>\n",
       "      <th>Accident_Severity</th>\n",
       "      <th>Number_of_Vehicles</th>\n",
       "      <th>Number_of_Casualties</th>\n",
       "      <th>Day_of_Week</th>\n",
       "      <th>Time</th>\n",
       "      <th>Sex_of_Driver</th>\n",
       "      <th>Sex_of_Casualty</th>\n",
       "      <th>Age_of_Driver</th>\n",
       "      <th>Age_of_Casualty</th>\n",
       "    </tr>\n",
       "    <tr>\n",
       "      <th>Date</th>\n",
       "      <th></th>\n",
       "      <th></th>\n",
       "      <th></th>\n",
       "      <th></th>\n",
       "      <th></th>\n",
       "      <th></th>\n",
       "      <th></th>\n",
       "      <th></th>\n",
       "      <th></th>\n",
       "    </tr>\n",
       "  </thead>\n",
       "  <tbody>\n",
       "    <tr>\n",
       "      <td>01/01/18</td>\n",
       "      <td>3</td>\n",
       "      <td>1</td>\n",
       "      <td>2</td>\n",
       "      <td>2</td>\n",
       "      <td>1:30</td>\n",
       "      <td>1</td>\n",
       "      <td>2</td>\n",
       "      <td>57</td>\n",
       "      <td>50</td>\n",
       "    </tr>\n",
       "    <tr>\n",
       "      <td>01/01/18</td>\n",
       "      <td>3</td>\n",
       "      <td>1</td>\n",
       "      <td>1</td>\n",
       "      <td>2</td>\n",
       "      <td>0:50</td>\n",
       "      <td>1</td>\n",
       "      <td>1</td>\n",
       "      <td>48</td>\n",
       "      <td>48</td>\n",
       "    </tr>\n",
       "    <tr>\n",
       "      <td>01/01/18</td>\n",
       "      <td>3</td>\n",
       "      <td>1</td>\n",
       "      <td>1</td>\n",
       "      <td>2</td>\n",
       "      <td>0:45</td>\n",
       "      <td>1</td>\n",
       "      <td>1</td>\n",
       "      <td>22</td>\n",
       "      <td>29</td>\n",
       "    </tr>\n",
       "    <tr>\n",
       "      <td>01/01/18</td>\n",
       "      <td>2</td>\n",
       "      <td>1</td>\n",
       "      <td>1</td>\n",
       "      <td>2</td>\n",
       "      <td>3:00</td>\n",
       "      <td>1</td>\n",
       "      <td>1</td>\n",
       "      <td>40</td>\n",
       "      <td>40</td>\n",
       "    </tr>\n",
       "    <tr>\n",
       "      <td>01/01/18</td>\n",
       "      <td>2</td>\n",
       "      <td>2</td>\n",
       "      <td>2</td>\n",
       "      <td>2</td>\n",
       "      <td>2:20</td>\n",
       "      <td>1</td>\n",
       "      <td>1</td>\n",
       "      <td>28</td>\n",
       "      <td>27</td>\n",
       "    </tr>\n",
       "  </tbody>\n",
       "</table>\n",
       "</div>"
      ],
      "text/plain": [
       "          Accident_Severity  Number_of_Vehicles  Number_of_Casualties  \\\n",
       "Date                                                                    \n",
       "01/01/18                  3                   1                     2   \n",
       "01/01/18                  3                   1                     1   \n",
       "01/01/18                  3                   1                     1   \n",
       "01/01/18                  2                   1                     1   \n",
       "01/01/18                  2                   2                     2   \n",
       "\n",
       "          Day_of_Week  Time  Sex_of_Driver  Sex_of_Casualty  Age_of_Driver  \\\n",
       "Date                                                                         \n",
       "01/01/18            2  1:30              1                2             57   \n",
       "01/01/18            2  0:50              1                1             48   \n",
       "01/01/18            2  0:45              1                1             22   \n",
       "01/01/18            2  3:00              1                1             40   \n",
       "01/01/18            2  2:20              1                1             28   \n",
       "\n",
       "          Age_of_Casualty  \n",
       "Date                       \n",
       "01/01/18               50  \n",
       "01/01/18               48  \n",
       "01/01/18               29  \n",
       "01/01/18               40  \n",
       "01/01/18               27  "
      ]
     },
     "execution_count": 3,
     "metadata": {},
     "output_type": "execute_result"
    }
   ],
   "source": [
    "datos = pd.read_csv('base.csv', index_col = \"Date\")\n",
    "datos = datos.iloc[:, 1:10]\n",
    "datos.head()"
   ]
  },
  {
   "cell_type": "code",
   "execution_count": 4,
   "metadata": {},
   "outputs": [
    {
     "data": {
      "text/html": [
       "<div>\n",
       "<style scoped>\n",
       "    .dataframe tbody tr th:only-of-type {\n",
       "        vertical-align: middle;\n",
       "    }\n",
       "\n",
       "    .dataframe tbody tr th {\n",
       "        vertical-align: top;\n",
       "    }\n",
       "\n",
       "    .dataframe thead th {\n",
       "        text-align: right;\n",
       "    }\n",
       "</style>\n",
       "<table border=\"1\" class=\"dataframe\">\n",
       "  <thead>\n",
       "    <tr style=\"text-align: right;\">\n",
       "      <th></th>\n",
       "      <th>Accident_Severity</th>\n",
       "      <th>Number_of_Vehicles</th>\n",
       "      <th>Number_of_Casualties</th>\n",
       "      <th>Day_of_Week</th>\n",
       "      <th>Sex_of_Driver</th>\n",
       "      <th>Sex_of_Casualty</th>\n",
       "      <th>Age_of_Driver</th>\n",
       "      <th>Age_of_Casualty</th>\n",
       "    </tr>\n",
       "  </thead>\n",
       "  <tbody>\n",
       "    <tr>\n",
       "      <td>count</td>\n",
       "      <td>263.000000</td>\n",
       "      <td>263.000000</td>\n",
       "      <td>263.000000</td>\n",
       "      <td>263.000000</td>\n",
       "      <td>263.000000</td>\n",
       "      <td>263.000000</td>\n",
       "      <td>263.000000</td>\n",
       "      <td>263.000000</td>\n",
       "    </tr>\n",
       "    <tr>\n",
       "      <td>mean</td>\n",
       "      <td>2.825095</td>\n",
       "      <td>2.460076</td>\n",
       "      <td>1.231939</td>\n",
       "      <td>4.555133</td>\n",
       "      <td>1.288973</td>\n",
       "      <td>1.342205</td>\n",
       "      <td>43.239544</td>\n",
       "      <td>37.330798</td>\n",
       "    </tr>\n",
       "    <tr>\n",
       "      <td>std</td>\n",
       "      <td>0.427822</td>\n",
       "      <td>1.871166</td>\n",
       "      <td>0.679166</td>\n",
       "      <td>1.724266</td>\n",
       "      <td>0.454150</td>\n",
       "      <td>0.475353</td>\n",
       "      <td>13.443110</td>\n",
       "      <td>16.929380</td>\n",
       "    </tr>\n",
       "    <tr>\n",
       "      <td>min</td>\n",
       "      <td>1.000000</td>\n",
       "      <td>1.000000</td>\n",
       "      <td>1.000000</td>\n",
       "      <td>1.000000</td>\n",
       "      <td>1.000000</td>\n",
       "      <td>1.000000</td>\n",
       "      <td>19.000000</td>\n",
       "      <td>3.000000</td>\n",
       "    </tr>\n",
       "    <tr>\n",
       "      <td>25%</td>\n",
       "      <td>3.000000</td>\n",
       "      <td>1.000000</td>\n",
       "      <td>1.000000</td>\n",
       "      <td>3.000000</td>\n",
       "      <td>1.000000</td>\n",
       "      <td>1.000000</td>\n",
       "      <td>32.000000</td>\n",
       "      <td>25.000000</td>\n",
       "    </tr>\n",
       "    <tr>\n",
       "      <td>50%</td>\n",
       "      <td>3.000000</td>\n",
       "      <td>2.000000</td>\n",
       "      <td>1.000000</td>\n",
       "      <td>5.000000</td>\n",
       "      <td>1.000000</td>\n",
       "      <td>1.000000</td>\n",
       "      <td>42.000000</td>\n",
       "      <td>35.000000</td>\n",
       "    </tr>\n",
       "    <tr>\n",
       "      <td>75%</td>\n",
       "      <td>3.000000</td>\n",
       "      <td>3.000000</td>\n",
       "      <td>1.000000</td>\n",
       "      <td>6.000000</td>\n",
       "      <td>2.000000</td>\n",
       "      <td>2.000000</td>\n",
       "      <td>54.000000</td>\n",
       "      <td>48.000000</td>\n",
       "    </tr>\n",
       "    <tr>\n",
       "      <td>max</td>\n",
       "      <td>4.000000</td>\n",
       "      <td>10.000000</td>\n",
       "      <td>7.000000</td>\n",
       "      <td>7.000000</td>\n",
       "      <td>2.000000</td>\n",
       "      <td>2.000000</td>\n",
       "      <td>79.000000</td>\n",
       "      <td>88.000000</td>\n",
       "    </tr>\n",
       "  </tbody>\n",
       "</table>\n",
       "</div>"
      ],
      "text/plain": [
       "       Accident_Severity  Number_of_Vehicles  Number_of_Casualties  \\\n",
       "count         263.000000          263.000000            263.000000   \n",
       "mean            2.825095            2.460076              1.231939   \n",
       "std             0.427822            1.871166              0.679166   \n",
       "min             1.000000            1.000000              1.000000   \n",
       "25%             3.000000            1.000000              1.000000   \n",
       "50%             3.000000            2.000000              1.000000   \n",
       "75%             3.000000            3.000000              1.000000   \n",
       "max             4.000000           10.000000              7.000000   \n",
       "\n",
       "       Day_of_Week  Sex_of_Driver  Sex_of_Casualty  Age_of_Driver  \\\n",
       "count   263.000000     263.000000       263.000000     263.000000   \n",
       "mean      4.555133       1.288973         1.342205      43.239544   \n",
       "std       1.724266       0.454150         0.475353      13.443110   \n",
       "min       1.000000       1.000000         1.000000      19.000000   \n",
       "25%       3.000000       1.000000         1.000000      32.000000   \n",
       "50%       5.000000       1.000000         1.000000      42.000000   \n",
       "75%       6.000000       2.000000         2.000000      54.000000   \n",
       "max       7.000000       2.000000         2.000000      79.000000   \n",
       "\n",
       "       Age_of_Casualty  \n",
       "count       263.000000  \n",
       "mean         37.330798  \n",
       "std          16.929380  \n",
       "min           3.000000  \n",
       "25%          25.000000  \n",
       "50%          35.000000  \n",
       "75%          48.000000  \n",
       "max          88.000000  "
      ]
     },
     "execution_count": 4,
     "metadata": {},
     "output_type": "execute_result"
    }
   ],
   "source": [
    "datos.describe()"
   ]
  },
  {
   "cell_type": "markdown",
   "metadata": {},
   "source": [
    "## <font color = \"darkgreen\"> Nodo 1: Edad"
   ]
  },
  {
   "cell_type": "markdown",
   "metadata": {},
   "source": [
    "En este primer nodo se hará el análisis de los conductores y personas en el automóvil, veremos a que edad hay más personas conduciendo."
   ]
  },
  {
   "cell_type": "code",
   "execution_count": 5,
   "metadata": {},
   "outputs": [],
   "source": [
    "edad = datos.iloc[:, 7:8]"
   ]
  },
  {
   "cell_type": "code",
   "execution_count": 6,
   "metadata": {},
   "outputs": [],
   "source": [
    "para1 = st.norm.fit(datos['Age_of_Driver'])"
   ]
  },
  {
   "cell_type": "code",
   "execution_count": 7,
   "metadata": {},
   "outputs": [
    {
     "data": {
      "image/png": "[encoded data removed]",
      "text/plain": [
       "<Figure size 432x288 with 1 Axes>"
      ]
     },
     "metadata": {
      "needs_background": "light"
     },
     "output_type": "display_data"
    }
   ],
   "source": [
    "hist_edad = edad.plot.hist(grid=True, bins=20, rwidth=0.9, color='navy')"
   ]
  },
  {
   "cell_type": "markdown",
   "metadata": {},
   "source": [
    "En el histograma podemos observar que la edad más frecuente de los conductores es de 35 años aprox.\n",
    "\n"
   ]
  },
  {
   "cell_type": "code",
   "execution_count": 8,
   "metadata": {},
   "outputs": [
    {
     "data": {
      "text/plain": [
       "('norm', (0.0, 1.0))"
      ]
     },
     "execution_count": 8,
     "metadata": {},
     "output_type": "execute_result"
    }
   ],
   "source": [
    "best_fit_distribution(edad)"
   ]
  },
  {
   "cell_type": "code",
   "execution_count": 9,
   "metadata": {},
   "outputs": [
    {
     "data": {
      "image/png": "[encoded data removed]",
      "text/plain": [
       "<Figure size 432x288 with 1 Axes>"
      ]
     },
     "metadata": {
      "needs_background": "light"
     },
     "output_type": "display_data"
    },
    {
     "data": {
      "image/png": "[encoded data removed]",
      "text/plain": [
       "<Figure size 432x288 with 1 Axes>"
      ]
     },
     "metadata": {
      "needs_background": "light"
     },
     "output_type": "display_data"
    }
   ],
   "source": [
    "# Histograma de las variables creadas\n",
    "divisiones = 100 # Cantidad de barras en el histograma\n",
    "plt.hist(datos['Age_of_Driver'], divisiones, density=True,label='Edad del conductor')\n",
    "x = np.arange(18,90,.01)\n",
    "y = st.norm.pdf(x, loc=para1[0], scale=para1[1])\n",
    "plt.plot(x, y, 'k--')\n",
    "plt.ylabel('Probability')\n",
    "plt.grid()\n",
    "plt.show()\n",
    "\n",
    "# Gráfica de Q-Q entre las muestras creadas y una curva normal\n",
    "st.probplot(datos['Age_of_Driver'], (para1[0],para1[1]), dist=\"norm\", plot=plt)\n",
    "plt.grid()\n",
    "plt.title('Distribución normal')\n",
    "plt.xlabel('Normal theorical quantiles')\n",
    "plt.ylabel('Data theorical quantiles')\n",
    "plt.show()"
   ]
  },
  {
   "cell_type": "code",
   "execution_count": 10,
   "metadata": {
    "scrolled": true
   },
   "outputs": [
    {
     "data": {
      "image/png": "[encoded data removed]",
      "text/plain": [
       "<Figure size 720x432 with 1 Axes>"
      ]
     },
     "metadata": {
      "needs_background": "light"
     },
     "output_type": "display_data"
    }
   ],
   "source": [
    "f, axes = plt.subplots(figsize=(10, 6), sharex=True)\n",
    "# Plot a simple histogram with binsize determined automatically\n",
    "a = sns.distplot(edad, color=\"darkblue\", fit=st.norm, norm_hist=True)"
   ]
  },
  {
   "cell_type": "code",
   "execution_count": 11,
   "metadata": {},
   "outputs": [
    {
     "name": "stdout",
     "output_type": "stream",
     "text": [
      "La media es  =  Age_of_Driver    43.239544\n",
      "dtype: float64\n",
      "La desviación estándar es =  Age_of_Driver    13.417529\n",
      "dtype: float64\n"
     ]
    }
   ],
   "source": [
    "mu = np.mean(edad)\n",
    "sigma = np.std(edad)\n",
    "print(\"La media es  = \", mu)\n",
    "print(\"La desviación estándar es = \", sigma)"
   ]
  },
  {
   "cell_type": "markdown",
   "metadata": {},
   "source": [
    "### Se desea resolver la siguiente prueba de hipótesis\n",
    "> $H_0$: la distribución es normal con ´media= $\\mu$´ y ´desviación estándar = $\\sigma$´\n",
    "\n",
    "> $H_a$: los datos no se distribuyen normales"
   ]
  },
  {
   "cell_type": "code",
   "execution_count": 12,
   "metadata": {},
   "outputs": [
    {
     "data": {
      "image/png": "[encoded data removed]",
      "text/plain": [
       "<Figure size 432x288 with 1 Axes>"
      ]
     },
     "metadata": {
      "needs_background": "light"
     },
     "output_type": "display_data"
    },
    {
     "name": "stdout",
     "output_type": "stream",
     "text": [
      "media mu =48.666667, desviación estándar muestral =17.319439\n"
     ]
    },
    {
     "data": {
      "text/plain": [
       "(48.666666666666664, 17.319438875522582)"
      ]
     },
     "execution_count": 12,
     "metadata": {},
     "output_type": "execute_result"
    }
   ],
   "source": [
    "np.random.seed(555)\n",
    "mu_real = mu; sigma_real = sigma\n",
    "N = 100 # Cantidad de muestras\n",
    "n1 = datos[\"Age_of_Driver\"]\n",
    "# datos aqui en n1 para el proyecto\n",
    "J = 90  # Cantidad de particiones del histograma\n",
    "[freq,x,p] = plt.hist(n1,J,density=True)\n",
    "plt.show()\n",
    "# Se obvia el último valor de x para obtener exactamente J muestras de x\n",
    "x = x[:-1] \n",
    "# Media y desviación estándar muestral\n",
    "mu = np.mean(x)\n",
    "sigma = np.std(x)\n",
    "print('media mu =%f, desviación estándar muestral =%f'%(mu, sigma))\n",
    "st.norm.fit(x)"
   ]
  },
  {
   "cell_type": "markdown",
   "metadata": {},
   "source": [
    "Sabemos que la obtener misma mu y misma desviación los calculos fueron correctamente realizados."
   ]
  },
  {
   "cell_type": "code",
   "execution_count": 13,
   "metadata": {},
   "outputs": [
    {
     "name": "stdout",
     "output_type": "stream",
     "text": [
      "Valor de chi cuadrado teorico  =  64.02478722914138\n",
      "Valor de chi cuadrado librería =  Power_divergenceResult(statistic=64.02478722914138, pvalue=0.978902766607369)\n",
      "Estadístico de chi_cuadrado =  109.77330935028795\n",
      "Media muestral =  48.666666666666664 \n",
      "Desviación estándar muestral =  17.319438875522582\n"
     ]
    }
   ],
   "source": [
    "pi = st.norm.pdf(x,loc=mu,scale=sigma)\n",
    "# Cálculo de la esperanza usando la expresión teórica\n",
    "Ei = x*pi\n",
    "# Cálculo teórico de la chi cuadrada\n",
    "x2 = np.sum(list(map(lambda Ei,obs_i:(obs_i-Ei)**2/Ei,Ei,freq)))\n",
    "print('Valor de chi cuadrado teorico  = ',x2)\n",
    "\n",
    "# Cálculo usando la librería estadística de la chi cuadrada\n",
    "X2 = st.chisquare(freq,Ei)\n",
    "print('Valor de chi cuadrado librería = ',X2)\n",
    "\n",
    "# Cálculo de Grados de libertad del estadístico\n",
    "p = 2 # Parámetros estimados con los datos\n",
    "m = J-p-1 # grados de libertad\n",
    "\n",
    "Chi_est = st.chi2.ppf(q = 0.95, df=m)\n",
    "print('Estadístico de chi_cuadrado = ', Chi_est)\n",
    "print('Media muestral = ', mu, '\\nDesviación estándar muestral = ', sigma)"
   ]
  },
  {
   "cell_type": "markdown",
   "metadata": {},
   "source": [
    "Al ver que el chi cuadrado teoríco es igual al de la librería y que la media y desviación son iguales a lo anteriormente dado, vemos que ciertamente es una distribución normal.\n",
    "\n",
    "Al obtener un pvalue de 0.978902 decimos que $H_0$ acepta, es decir, los datos se distribuyen normalmente."
   ]
  },
  {
   "cell_type": "code",
   "execution_count": 46,
   "metadata": {},
   "outputs": [
    {
     "name": "stderr",
     "output_type": "stream",
     "text": [
      "/opt/anaconda3/lib/python3.7/site-packages/sklearn/model_selection/_search.py:814: DeprecationWarning: The default of the `iid` parameter will change from True to False in version 0.22 and will be removed in 0.24. This will change numeric results when test-set sizes are unequal.\n",
      "  DeprecationWarning)\n"
     ]
    },
    {
     "data": {
      "image/png": "[encoded data removed]",
      "text/plain": [
       "<Figure size 432x288 with 1 Axes>"
      ]
     },
     "metadata": {
      "needs_background": "light"
     },
     "output_type": "display_data"
    },
    {
     "data": {
      "text/plain": [
       "[(array([0.00000000e+000, 0.00000000e+000, 0.00000000e+000, 0.00000000e+000,\n",
       "         0.00000000e+000, 0.00000000e+000, 0.00000000e+000, 0.00000000e+000,\n",
       "         0.00000000e+000, 0.00000000e+000, 0.00000000e+000, 0.00000000e+000,\n",
       "         0.00000000e+000, 0.00000000e+000, 0.00000000e+000, 0.00000000e+000,\n",
       "         0.00000000e+000, 0.00000000e+000, 0.00000000e+000, 0.00000000e+000,\n",
       "         0.00000000e+000, 0.00000000e+000, 0.00000000e+000, 0.00000000e+000,\n",
       "         0.00000000e+000, 0.00000000e+000, 0.00000000e+000, 0.00000000e+000,\n",
       "         0.00000000e+000, 0.00000000e+000, 0.00000000e+000, 0.00000000e+000,\n",
       "         0.00000000e+000, 0.00000000e+000, 0.00000000e+000, 0.00000000e+000,\n",
       "         0.00000000e+000, 0.00000000e+000, 0.00000000e+000, 0.00000000e+000,\n",
       "         0.00000000e+000, 0.00000000e+000, 0.00000000e+000, 0.00000000e+000,\n",
       "         0.00000000e+000, 0.00000000e+000, 0.00000000e+000, 0.00000000e+000,\n",
       "         0.00000000e+000, 0.00000000e+000, 0.00000000e+000, 0.00000000e+000,\n",
       "         0.00000000e+000, 0.00000000e+000, 0.00000000e+000, 0.00000000e+000,\n",
       "         0.00000000e+000, 0.00000000e+000, 0.00000000e+000, 0.00000000e+000,\n",
       "         0.00000000e+000, 0.00000000e+000, 0.00000000e+000, 0.00000000e+000,\n",
       "         0.00000000e+000, 0.00000000e+000, 0.00000000e+000, 0.00000000e+000,\n",
       "         0.00000000e+000, 0.00000000e+000, 0.00000000e+000, 0.00000000e+000,\n",
       "         0.00000000e+000, 0.00000000e+000, 0.00000000e+000, 0.00000000e+000,\n",
       "         0.00000000e+000, 0.00000000e+000, 0.00000000e+000, 0.00000000e+000,\n",
       "         0.00000000e+000, 0.00000000e+000, 0.00000000e+000, 0.00000000e+000,\n",
       "         0.00000000e+000, 0.00000000e+000, 0.00000000e+000, 0.00000000e+000,\n",
       "         0.00000000e+000, 0.00000000e+000, 0.00000000e+000, 0.00000000e+000,\n",
       "         0.00000000e+000, 0.00000000e+000, 0.00000000e+000, 0.00000000e+000,\n",
       "         0.00000000e+000, 0.00000000e+000, 0.00000000e+000, 0.00000000e+000,\n",
       "         0.00000000e+000, 0.00000000e+000, 0.00000000e+000, 0.00000000e+000,\n",
       "         0.00000000e+000, 0.00000000e+000, 0.00000000e+000, 0.00000000e+000,\n",
       "         0.00000000e+000, 0.00000000e+000, 0.00000000e+000, 0.00000000e+000,\n",
       "         0.00000000e+000, 0.00000000e+000, 0.00000000e+000, 0.00000000e+000,\n",
       "         0.00000000e+000, 0.00000000e+000, 0.00000000e+000, 0.00000000e+000,\n",
       "         0.00000000e+000, 0.00000000e+000, 0.00000000e+000, 0.00000000e+000,\n",
       "         0.00000000e+000, 0.00000000e+000, 0.00000000e+000, 0.00000000e+000,\n",
       "         0.00000000e+000, 0.00000000e+000, 0.00000000e+000, 0.00000000e+000,\n",
       "         0.00000000e+000, 0.00000000e+000, 0.00000000e+000, 0.00000000e+000,\n",
       "         0.00000000e+000, 0.00000000e+000, 0.00000000e+000, 0.00000000e+000,\n",
       "         0.00000000e+000, 0.00000000e+000, 0.00000000e+000, 0.00000000e+000,\n",
       "         0.00000000e+000, 0.00000000e+000, 0.00000000e+000, 0.00000000e+000,\n",
       "         0.00000000e+000, 0.00000000e+000, 0.00000000e+000, 0.00000000e+000,\n",
       "         0.00000000e+000, 1.91664763e-317, 3.45767407e-310, 5.13402998e-303,\n",
       "         6.27430010e-296, 6.31109494e-289, 5.22488432e-282, 3.56025566e-275,\n",
       "         1.99672489e-268, 9.21696240e-262, 3.50178873e-255, 1.09502644e-248,\n",
       "         2.81832977e-242, 5.97023672e-236, 1.04093553e-229, 1.49378693e-223,\n",
       "         1.76435519e-217, 1.71520455e-211, 1.37239258e-205, 9.03802092e-200,\n",
       "         4.89892581e-194, 2.18555089e-188, 8.02515671e-183, 2.42537368e-177,\n",
       "         6.03304187e-172, 1.23516950e-166, 2.08137012e-161, 2.88671968e-156,\n",
       "         3.29528097e-151, 3.09608465e-146, 2.39422931e-141, 1.52388151e-136,\n",
       "         7.98305634e-132, 3.44207025e-127, 1.22152625e-122, 3.56794719e-118,\n",
       "         8.57761544e-114, 1.69725566e-109, 2.76414294e-105, 3.70515406e-101,\n",
       "         4.08775240e-097, 3.71189287e-093, 2.77420676e-089, 1.70653326e-085,\n",
       "         8.64018867e-082, 3.60051178e-078, 1.23491705e-074, 3.48613238e-071,\n",
       "         8.09995309e-068, 1.54900804e-064, 2.43813293e-061, 3.15859270e-058,\n",
       "         3.36792502e-055, 2.95572307e-052, 2.13499866e-049, 1.26929922e-046,\n",
       "         6.21102044e-044, 2.50146507e-041, 8.29198424e-039, 2.26232519e-036,\n",
       "         5.08023890e-034, 9.38957163e-032, 1.42836751e-029, 1.78840833e-027,\n",
       "         1.84300259e-025, 1.56321153e-023, 1.09129481e-021, 6.27045377e-020,\n",
       "         2.96543488e-018, 1.15427782e-016, 3.69798249e-015, 9.75106137e-014,\n",
       "         2.11627191e-012, 3.78027668e-011, 5.55786821e-010, 6.72551340e-009,\n",
       "         6.69846325e-008, 5.49107602e-007, 3.70486402e-006, 2.05740423e-005,\n",
       "         9.40371641e-005, 3.53762634e-004, 1.09536014e-003, 2.79147953e-003,\n",
       "         5.85523731e-003, 1.01085088e-002, 1.43635645e-002, 1.67984773e-002,\n",
       "         1.61700109e-002, 1.28110648e-002, 8.35441390e-003, 4.48697291e-003,\n",
       "         1.99818120e-003, 7.95352231e-004, 4.80497597e-004, 8.21285281e-004,\n",
       "         1.84366017e-003, 3.60120293e-003, 5.81800574e-003, 7.73952936e-003,\n",
       "         8.47428192e-003, 7.63704083e-003, 5.66473983e-003, 3.45833749e-003,\n",
       "         1.73775008e-003, 7.18687022e-004, 2.44638512e-004, 6.85397301e-005,\n",
       "         1.58049270e-005, 2.99968165e-006, 4.68591519e-007, 6.03262382e-008,\n",
       "         7.53177892e-009, 1.45052097e-008, 1.38566927e-007, 1.13222250e-006,\n",
       "         7.61657120e-006, 4.21716563e-005, 1.92182729e-004, 7.20842849e-004,\n",
       "         2.22535536e-003, 5.65445418e-003, 1.18253648e-002, 2.03549923e-002,\n",
       "         2.88376511e-002, 3.36264799e-002, 3.22727515e-002, 2.54934897e-002,\n",
       "         1.65778307e-002, 8.89020472e-003, 4.01441566e-003, 1.87694751e-003,\n",
       "         2.04084453e-003, 4.78119282e-003, 1.11480494e-002, 2.17899695e-002,\n",
       "         3.51100542e-002, 4.65690252e-002, 5.08393895e-002, 4.56811474e-002,\n",
       "         3.37841167e-002, 2.05681377e-002, 1.03272146e-002, 4.36846084e-003,\n",
       "         1.92212572e-003, 1.98191065e-003, 4.36575706e-003, 9.53462250e-003,\n",
       "         1.74486025e-002, 2.63220140e-002, 3.26863943e-002, 3.34081545e-002,\n",
       "         2.81043291e-002, 1.94604912e-002, 1.10990969e-002, 5.25542542e-003,\n",
       "         2.25348868e-003, 1.55601526e-003, 2.99240948e-003, 7.19417641e-003,\n",
       "         1.49324187e-002, 2.56171597e-002, 3.61842290e-002, 4.20681492e-002,\n",
       "         4.02551488e-002, 3.17048364e-002, 2.05542831e-002, 1.09795454e-002,\n",
       "         4.88896167e-003, 2.05401202e-003, 1.61578254e-003, 3.29104095e-003,\n",
       "         7.53072963e-003, 1.46557025e-002, 2.35420372e-002, 3.11328684e-002,\n",
       "         3.38872070e-002, 3.03589362e-002, 2.23861681e-002, 1.35900548e-002,\n",
       "         6.81167804e-003, 2.91302839e-003, 1.43392461e-003, 1.86853714e-003,\n",
       "         4.39210681e-003, 9.63061360e-003, 1.75827306e-002, 2.64472691e-002,\n",
       "         3.27449585e-002, 3.33690671e-002, 2.79885769e-002, 1.93241803e-002,\n",
       "         1.09964621e-002, 5.23378401e-003, 2.42764054e-003, 2.30937227e-003,\n",
       "         5.32917421e-003, 1.30837287e-002, 2.71342325e-002, 4.64206157e-002,\n",
       "         6.53762094e-002, 7.57823685e-002, 7.23019278e-002, 5.67761118e-002,\n",
       "         3.66970663e-002, 1.95314347e-002, 8.60336821e-003, 3.32005313e-003,\n",
       "         1.75164737e-003, 2.63110770e-003, 5.73955665e-003, 1.10917034e-002,\n",
       "         1.77581932e-002, 2.34139601e-002, 2.54099793e-002, 2.26970691e-002,\n",
       "         1.66873875e-002, 1.01036816e-002, 5.06778891e-003, 2.25000607e-003,\n",
       "         1.44466211e-003, 2.64170627e-003, 6.63080361e-003, 1.45913640e-002,\n",
       "         2.65757412e-002, 3.98578982e-002, 4.92032242e-002, 4.99927588e-002,\n",
       "         4.18077993e-002, 2.87797541e-002, 1.63268466e-002, 7.73741157e-003,\n",
       "         3.53216389e-003, 3.20778378e-003, 7.23540970e-003, 1.76699384e-002,\n",
       "         3.65296845e-002, 6.23082427e-002, 8.74918305e-002, 1.01118287e-001,\n",
       "         9.61889954e-002, 7.53107753e-002, 4.85357788e-002, 2.57737174e-002,\n",
       "         1.14103733e-002, 4.77245144e-003, 3.75270317e-003, 7.62076032e-003,\n",
       "         1.73415704e-002, 3.35505492e-002, 5.35754510e-002, 7.04317748e-002,\n",
       "         7.62101520e-002, 6.78719794e-002, 4.97511541e-002, 3.00176069e-002,\n",
       "         1.49178954e-002, 6.15583990e-003, 2.30375638e-003, 1.39711431e-003,\n",
       "         2.35478346e-003, 4.93699631e-003, 8.92968360e-003, 1.33484700e-002,\n",
       "         1.64290315e-002, 1.66432656e-002, 1.38773336e-002, 9.52558293e-003,\n",
       "         5.39403174e-003, 2.58214282e-003, 1.32340724e-003, 1.65991481e-003,\n",
       "         4.22280118e-003, 1.04239665e-002, 2.15117755e-002, 3.65875897e-002,\n",
       "         5.12239847e-002, 5.90268654e-002, 5.59834520e-002, 4.37029131e-002,\n",
       "         2.80860073e-002, 1.48947910e-002, 6.70008579e-003, 3.31566450e-003,\n",
       "         4.15444922e-003, 1.00819929e-002, 2.33450865e-002, 4.51120970e-002,\n",
       "         7.18354494e-002, 9.41588199e-002, 1.01582644e-001, 9.02010140e-002,\n",
       "         6.59238119e-002, 3.96626085e-002, 1.96806998e-002, 8.23042149e-003,\n",
       "         3.59194661e-003, 3.69313943e-003, 8.06342076e-003, 1.74082799e-002,\n",
       "         3.14832924e-002, 4.69347851e-002, 5.75967569e-002, 5.81753098e-002,\n",
       "         4.83631383e-002, 3.30939160e-002, 1.86514458e-002, 8.72167571e-003,\n",
       "         3.67001516e-003, 2.41864207e-003, 4.47671033e-003, 1.05950927e-002,\n",
       "         2.17249391e-002, 3.68300024e-002, 5.14095989e-002, 5.90654410e-002,\n",
       "         5.58543616e-002, 4.34731559e-002, 2.78554066e-002, 1.47267877e-002,\n",
       "         6.59461446e-003, 3.21188700e-003, 3.90748885e-003, 9.38424394e-003,\n",
       "         2.16486767e-002, 4.17074943e-002, 6.62172693e-002, 8.65380402e-002,\n",
       "         9.30849198e-002, 8.24109323e-002, 6.00519407e-002, 3.60205793e-002,\n",
       "         1.78066296e-002, 7.35773220e-003, 2.94488736e-003, 2.37984794e-003,\n",
       "         4.72322471e-003, 1.00624452e-002, 1.81280149e-002, 2.69429669e-002,\n",
       "         3.29654945e-002, 3.31981545e-002, 2.75172358e-002, 1.87744717e-002,\n",
       "         1.05542487e-002, 4.94468149e-003, 2.18087079e-003, 1.78825765e-003,\n",
       "         3.81348024e-003, 9.17765046e-003, 1.87959030e-002, 3.17749869e-002,\n",
       "         4.42228972e-002, 5.06583064e-002, 4.77625764e-002, 3.70647318e-002,\n",
       "         2.36759231e-002, 1.24612222e-002, 5.46755228e-003, 2.26494644e-003,\n",
       "         1.76031511e-003, 3.53786883e-003, 7.97798445e-003, 1.52981436e-002,\n",
       "         2.42128406e-002, 3.15493130e-002, 3.38357361e-002, 2.98673132e-002,\n",
       "         2.17003669e-002, 1.29831429e-002, 6.42953404e-003, 2.79332412e-003,\n",
       "         1.67219472e-003, 2.85171823e-003, 7.00500339e-003, 1.52195993e-002,\n",
       "         2.73914198e-002, 4.05971855e-002, 4.95256366e-002, 4.97277517e-002,\n",
       "         4.10964701e-002, 2.79571466e-002, 1.56748192e-002, 7.34860260e-003,\n",
       "         3.34885715e-003, 3.10955576e-003, 7.04069280e-003, 1.70233170e-002,\n",
       "         3.47840897e-002, 5.86329075e-002, 8.13615379e-002, 9.29258578e-002,\n",
       "         8.73548772e-002, 6.75881139e-002, 4.30413655e-002, 2.25597507e-002,\n",
       "         9.73229106e-003, 3.45563944e-003, 1.00989052e-003, 2.42914090e-004,\n",
       "         4.80909837e-005, 7.83623477e-006, 1.05104939e-006, 1.17487011e-007,\n",
       "         2.91406080e-008, 1.93462264e-007, 1.64270884e-006, 1.15266947e-005,\n",
       "         6.65723925e-005, 3.16458067e-004, 1.23814275e-003, 3.98710621e-003,\n",
       "         1.05676259e-002, 2.30531139e-002, 4.13917989e-002, 6.11690236e-002,\n",
       "         7.44014417e-002, 7.44841557e-002, 6.13735713e-002, 4.16255313e-002,\n",
       "         2.32543559e-002, 1.07890925e-002, 4.54929539e-003, 3.13593259e-003,\n",
       "         5.98908716e-003, 1.41308726e-002, 2.87336765e-002, 4.82831027e-002,\n",
       "         6.68006505e-002, 7.60696519e-002, 7.12977687e-002, 5.50015501e-002,\n",
       "         3.49243426e-002, 1.82629210e-002, 7.91491343e-003, 3.05026581e-003,\n",
       "         1.74007584e-003, 2.82017229e-003, 6.13896412e-003, 1.16714016e-002,\n",
       "         1.83594581e-002, 2.37806283e-002, 2.53533903e-002, 2.22477058e-002,\n",
       "         1.60692981e-002, 9.56075039e-003, 4.72632749e-003, 2.13354901e-003,\n",
       "         1.60545118e-003, 3.32214609e-003, 8.36769476e-003, 1.81239806e-002,\n",
       "         3.24337571e-002, 4.77875923e-002, 5.79532271e-002, 5.78460519e-002,\n",
       "         4.75229249e-002, 3.21346490e-002, 1.78885645e-002, 8.21813052e-003,\n",
       "         3.20494712e-003, 1.38379132e-003, 1.52356513e-003, 3.21530877e-003,\n",
       "         6.45155478e-003, 1.07993176e-002, 1.48957657e-002, 1.69123782e-002,\n",
       "         1.58046151e-002, 1.21565522e-002, 7.69908240e-003, 4.03170740e-003,\n",
       "         1.83062997e-003, 1.06832574e-003, 1.75385680e-003, 4.48173343e-003,\n",
       "         1.02917404e-002, 1.96064283e-002, 3.07633749e-002, 3.97307666e-002,\n",
       "         4.22332619e-002, 3.69501073e-002, 2.66083105e-002, 1.57741200e-002,\n",
       "         7.71625498e-003, 3.19901408e-003, 1.44960528e-003, 1.65059367e-003,\n",
       "         3.67964237e-003, 7.85634910e-003, 1.40040432e-002, 2.05706972e-002,\n",
       "         2.48726621e-002, 2.47532647e-002, 2.02760099e-002, 1.36724572e-002,\n",
       "         7.60503260e-003, 3.57171990e-003, 1.77807664e-003, 2.13580930e-003,\n",
       "         5.29630410e-003, 1.28332163e-002, 2.60154326e-002, 4.34679154e-002,\n",
       "         5.97848253e-002, 6.76784001e-002, 6.30583163e-002, 4.83582103e-002,\n",
       "         3.05257127e-002, 1.58747900e-002, 6.87101565e-003, 2.76271543e-003,\n",
       "         1.97506529e-003, 3.76734723e-003, 8.35234380e-003, 1.58201739e-002,\n",
       "         2.47432418e-002, 3.18606441e-002, 3.37672324e-002, 2.94559086e-002,\n",
       "         2.11501276e-002, 1.25098114e-002, 6.15015163e-003, 2.77148802e-003,\n",
       "         2.11328211e-003, 4.40356179e-003, 1.10455502e-002, 2.37865496e-002,\n",
       "         4.23163883e-002, 6.19804305e-002, 7.47213509e-002, 7.41427120e-002,\n",
       "         6.05516583e-002, 4.07033605e-002, 2.25285372e-002, 1.03089851e-002,\n",
       "         4.08606977e-003, 2.06781667e-003, 2.93759104e-003, 6.54757337e-003,\n",
       "         1.31377730e-002, 2.18727120e-002, 2.99927013e-002, 3.38521758e-002,\n",
       "         3.14479944e-002, 2.40458319e-002, 1.51359809e-002, 7.86117372e-003,\n",
       "         3.45780235e-003, 1.65281183e-003, 1.97126322e-003, 4.64805227e-003,\n",
       "         1.05331791e-002, 1.99352988e-002, 3.10929938e-002, 3.99191365e-002,\n",
       "         4.21828899e-002, 3.66881534e-002, 2.62642565e-002, 1.54824212e-002,\n",
       "         7.55290310e-003, 3.22553794e-003, 1.87513983e-003, 3.10222548e-003,\n",
       "         7.48786545e-003, 1.60255124e-002, 2.84173023e-002, 4.14985041e-002,\n",
       "         4.98810411e-002, 4.93483974e-002, 4.01832588e-002, 2.69321963e-002,\n",
       "         1.48658363e-002, 6.80091352e-003, 2.76848174e-003, 1.67360160e-003,\n",
       "         2.87306431e-003, 6.60505306e-003, 1.32555900e-002, 2.20095347e-002,\n",
       "         3.00917586e-002, 3.38636067e-002, 3.13655806e-002, 2.39118158e-002,\n",
       "         1.50065276e-002, 7.76733963e-003, 3.38870506e-003, 1.54427494e-003,\n",
       "         1.66043206e-003, 3.78473012e-003, 8.52389592e-003, 1.60802967e-002,\n",
       "         2.50056035e-002, 3.20087608e-002, 3.37238954e-002, 2.92442504e-002,\n",
       "         2.08731006e-002, 1.22658331e-002, 5.95358787e-003, 2.47705843e-003,\n",
       "         1.22694083e-003, 1.64943772e-003, 3.80968749e-003, 8.09770442e-003,\n",
       "         1.43120278e-002, 2.08378160e-002, 2.49728453e-002, 2.46331176e-002,\n",
       "         1.99989140e-002, 1.33647306e-002, 7.35781541e-003, 3.37033070e-003,\n",
       "         1.42965654e-003, 1.06623726e-003, 2.13411647e-003, 5.00318364e-003,\n",
       "         1.00314534e-002, 1.66098107e-002, 2.26423547e-002, 2.54051403e-002,\n",
       "         2.34615012e-002, 1.78332926e-002, 1.11595031e-002, 5.76400910e-003,\n",
       "         2.53195050e-003, 1.24917438e-003, 1.59531345e-003, 3.81632841e-003,\n",
       "         8.61505047e-003, 1.62116077e-002, 2.51362256e-002, 3.20809205e-002,\n",
       "         3.36999760e-002, 2.91370680e-002, 2.07349206e-002, 1.21473675e-002,\n",
       "         5.87165583e-003, 2.40320422e-003, 1.06720805e-003, 1.18019856e-003,\n",
       "         2.58715949e-003, 5.45598823e-003, 9.61041796e-003, 1.39505534e-002,\n",
       "         1.66693916e-002, 1.63940004e-002, 1.32705077e-002, 8.84251834e-003,\n",
       "         4.85649879e-003, 2.23252037e-003, 1.00696470e-003, 9.47118830e-004,\n",
       "         2.13163603e-003, 5.05684075e-003, 1.01222543e-002, 1.67124523e-002,\n",
       "         2.27151180e-002, 2.54114332e-002, 2.33979184e-002, 1.77323845e-002,\n",
       "         1.10636556e-002, 5.69827874e-003, 2.49902087e-003, 1.24249497e-003,\n",
       "         1.61356305e-003, 3.86818922e-003, 8.71072220e-003, 1.63438830e-002,\n",
       "         2.52664744e-002, 3.21518041e-002, 3.36745628e-002, 2.90290233e-002,\n",
       "         2.05971652e-002, 1.20325117e-002, 5.80759489e-003, 2.41015139e-003,\n",
       "         1.21645825e-003, 1.68765116e-003, 3.90718665e-003, 8.26251984e-003,\n",
       "         1.45180839e-002, 2.10131172e-002, 2.50342245e-002, 2.45478374e-002,\n",
       "         1.98120432e-002, 1.31621553e-002, 7.20668208e-003, 3.29846656e-003,\n",
       "         1.46353677e-003, 1.31392836e-003, 2.89224206e-003, 6.82564689e-003,\n",
       "         1.36197935e-002, 2.24202274e-002, 3.03828151e-002, 3.38887746e-002,\n",
       "         3.11112194e-002, 2.35078331e-002, 1.46204903e-002, 7.48847866e-003,\n",
       "         3.17822664e-003, 1.19729142e-003, 6.61566306e-004, 1.03971389e-003,\n",
       "         2.21328210e-003, 4.12095661e-003, 6.34930361e-003, 8.05537409e-003,\n",
       "         8.41191561e-003, 7.23001984e-003, 5.11485530e-003, 2.97958178e-003,\n",
       "         1.43616211e-003, 6.04850804e-004, 3.43010070e-004, 5.52841024e-004,\n",
       "         1.31531870e-003, 2.78123026e-003, 4.87364897e-003, 7.03328638e-003,\n",
       "         8.35442429e-003, 8.16788109e-003, 6.57261560e-003, 4.35349340e-003,\n",
       "         2.37585700e-003, 1.08017172e-003, 4.60628675e-004, 3.60873176e-004,\n",
       "         7.40579468e-004, 1.72838121e-003, 3.43610772e-003, 5.63927617e-003,\n",
       "         7.61943728e-003, 8.47353071e-003, 7.75603733e-003, 5.84326351e-003,\n",
       "         3.62402977e-003, 1.85437071e-003, 8.02807223e-004, 3.74690303e-004,\n",
       "         4.31938086e-004, 9.97907976e-004, 2.22688947e-003, 4.15249764e-003,\n",
       "         6.38140582e-003, 8.07242111e-003, 8.40480935e-003, 7.20252559e-003,\n",
       "         5.08012411e-003, 2.94914670e-003, 1.40912971e-003, 5.54163738e-004,\n",
       "         1.79373291e-004, 4.77870245e-005, 1.04783944e-005, 1.89108929e-006,\n",
       "         2.80906550e-007, 3.43434750e-008, 3.45588393e-009, 2.86224363e-010,\n",
       "         1.95113171e-011, 1.09471008e-012, 5.05526804e-014, 1.92142440e-015,\n",
       "         6.04480166e-017, 1.58227587e-017, 4.93242653e-016, 1.40254508e-014,\n",
       "         3.28272435e-013, 6.32389370e-012, 1.00269130e-010, 1.30852634e-009,\n",
       "         1.40549800e-008, 1.24254045e-007, 9.04114384e-007, 5.41462970e-006,\n",
       "         2.66898838e-005, 1.08282218e-004, 3.61576458e-004, 9.93746670e-004,\n",
       "         2.24793509e-003, 4.18527873e-003, 6.41353615e-003, 8.08915688e-003,\n",
       "         8.39733807e-003, 7.17487071e-003, 5.04588065e-003, 2.92215452e-003,\n",
       "         1.40079149e-003, 5.89348776e-004, 3.42485342e-004, 5.67062018e-004,\n",
       "         1.34900345e-003, 2.83714121e-003, 4.94249140e-003, 7.09053963e-003,\n",
       "         8.37269440e-003, 8.13739569e-003, 6.50936034e-003, 4.28571951e-003,\n",
       "         2.32242510e-003, 1.03583892e-003, 3.80255301e-004, 1.14892285e-004,\n",
       "         2.85718919e-005, 5.84816567e-006, 9.85219221e-007, 1.36608784e-007,\n",
       "         1.55903876e-008, 1.46442704e-009, 1.13216861e-010, 7.20422080e-012,\n",
       "         3.77307520e-013, 1.62643411e-014, 5.77100150e-016, 1.94578218e-017,\n",
       "         1.02567042e-016, 3.29487591e-015, 8.74619168e-014, 1.91087603e-012,\n",
       "         3.43620112e-011, 5.08577539e-010, 6.19538524e-009, 6.21172181e-008,\n",
       "         5.12611350e-007, 3.48174514e-006, 1.94642770e-005, 8.95595939e-005,\n",
       "         3.39170830e-004, 1.05720063e-003, 2.71224471e-003, 5.72707496e-003,\n",
       "         9.95335295e-003, 1.42376556e-002, 1.67625510e-002, 1.62433064e-002,\n",
       "         1.29551702e-002, 8.50483247e-003, 4.59804199e-003, 2.05999168e-003,\n",
       "         8.19702755e-004, 4.79947359e-004, 7.98983172e-004, 1.79629510e-003,\n",
       "         3.53048475e-003, 5.74165898e-003, 7.68900711e-003, 8.47524840e-003]),\n",
       "  GridSearchCV(cv=20, error_score='raise-deprecating',\n",
       "               estimator=KernelDensity(algorithm='auto', atol=0, bandwidth=1.0,\n",
       "                                       breadth_first=True, kernel='gaussian',\n",
       "                                       leaf_size=40, metric='euclidean',\n",
       "                                       metric_params=None, rtol=0),\n",
       "               iid='warn', n_jobs=None,\n",
       "               param_grid={'bandwidth': array([ 0.1       ,  0.17897898,  0.25795796,  0.33693694,  0.41591592,\n",
       "          0.49489489,  0.57387387,  0.65285285,  0.7318...\n",
       "         77.1045045 , 77.18348348, 77.26246246, 77.34144144, 77.42042042,\n",
       "         77.4993994 , 77.57837838, 77.65735736, 77.73633634, 77.81531532,\n",
       "         77.89429429, 77.97327327, 78.05225225, 78.13123123, 78.21021021,\n",
       "         78.28918919, 78.36816817, 78.44714715, 78.52612613, 78.60510511,\n",
       "         78.68408408, 78.76306306, 78.84204204, 78.92102102, 79.        ])},\n",
       "               pre_dispatch='2*n_jobs', refit=True, return_train_score=False,\n",
       "               scoring=None, verbose=0))]"
      ]
     },
     "execution_count": 46,
     "metadata": {},
     "output_type": "execute_result"
    }
   ],
   "source": [
    "[kernel(datos[\"Age_of_Driver\"], \"Edad\")]"
   ]
  },
  {
   "cell_type": "code",
   "execution_count": 47,
   "metadata": {
    "scrolled": true
   },
   "outputs": [
    {
     "name": "stdout",
     "output_type": "stream",
     "text": [
      "{'bandwidth': 0.16206896551724137}\n"
     ]
    },
    {
     "name": "stderr",
     "output_type": "stream",
     "text": [
      "/opt/anaconda3/lib/python3.7/site-packages/sklearn/model_selection/_search.py:814: DeprecationWarning: The default of the `iid` parameter will change from True to False in version 0.22 and will be removed in 0.24. This will change numeric results when test-set sizes are unequal.\n",
      "  DeprecationWarning)\n"
     ]
    },
    {
     "data": {
      "text/plain": [
       "(18, 90)"
      ]
     },
     "execution_count": 47,
     "metadata": {},
     "output_type": "execute_result"
    },
    {
     "data": {
      "image/png": "[encoded data removed]",
      "text/plain": [
       "<Figure size 1080x504 with 1 Axes>"
      ]
     },
     "metadata": {
      "needs_background": "light"
     },
     "output_type": "display_data"
    }
   ],
   "source": [
    "x1 = datos[\"Age_of_Driver\"]\n",
    "grid = GridSearchCV(KernelDensity(),\n",
    "                    {'bandwidth': np.linspace(0.1, 1.0, 30)},\n",
    "                    cv=20) # 20-fold cross-validation\n",
    "grid.fit(x1[:, None])\n",
    "print(grid.best_params_)\n",
    "x_grid = np.linspace(0.1, x1.max(), 1000)\n",
    "kde = grid.best_estimator_\n",
    "pdf = np.exp(kde.score_samples(x_grid[:,None]))\n",
    "\n",
    "fig, ax = plt.subplots(figsize=(15,7))\n",
    "ax.plot(x_grid, pdf, linewidth=3, alpha=0.5, label='bw=%.2f' % kde.bandwidth)\n",
    "ax.hist(x1, 100, fc='gray', histtype='stepfilled', alpha=0.3, density=True)\n",
    "ax.legend(loc='upper left')\n",
    "ax.set_xlim(18, 90)"
   ]
  },
  {
   "cell_type": "code",
   "execution_count": 50,
   "metadata": {},
   "outputs": [
    {
     "data": {
      "text/plain": [
       "<function __main__.kde_sklearn1.<locals>.<lambda>(x)>"
      ]
     },
     "execution_count": 50,
     "metadata": {},
     "output_type": "execute_result"
    }
   ],
   "source": [
    "x_grid = np.linspace(x1.min(),x1.max(),x1.max())\n",
    "x1_grid = np.linspace(0.1, x1.max(), 1000)\n",
    "funcion = kde_sklearn1(x1,x1_grid)\n",
    "funcion"
   ]
  },
  {
   "cell_type": "code",
   "execution_count": null,
   "metadata": {},
   "outputs": [],
   "source": []
  },
  {
   "cell_type": "code",
   "execution_count": 18,
   "metadata": {},
   "outputs": [
    {
     "data": {
      "text/html": [
       "<div>\n",
       "<style scoped>\n",
       "    .dataframe tbody tr th:only-of-type {\n",
       "        vertical-align: middle;\n",
       "    }\n",
       "\n",
       "    .dataframe tbody tr th {\n",
       "        vertical-align: top;\n",
       "    }\n",
       "\n",
       "    .dataframe thead th {\n",
       "        text-align: right;\n",
       "    }\n",
       "</style>\n",
       "<table border=\"1\" class=\"dataframe\">\n",
       "  <thead>\n",
       "    <tr style=\"text-align: right;\">\n",
       "      <th></th>\n",
       "      <th>Simulaciones</th>\n",
       "    </tr>\n",
       "  </thead>\n",
       "  <tbody>\n",
       "    <tr>\n",
       "      <td>10</td>\n",
       "      <td>44.874518</td>\n",
       "    </tr>\n",
       "    <tr>\n",
       "      <td>1000</td>\n",
       "      <td>42.623654</td>\n",
       "    </tr>\n",
       "    <tr>\n",
       "      <td>10000</td>\n",
       "      <td>43.257717</td>\n",
       "    </tr>\n",
       "    <tr>\n",
       "      <td>100000</td>\n",
       "      <td>43.255154</td>\n",
       "    </tr>\n",
       "    <tr>\n",
       "      <td>1000000</td>\n",
       "      <td>43.227470</td>\n",
       "    </tr>\n",
       "  </tbody>\n",
       "</table>\n",
       "</div>"
      ],
      "text/plain": [
       "         Simulaciones\n",
       "10          44.874518\n",
       "1000        42.623654\n",
       "10000       43.257717\n",
       "100000      43.255154\n",
       "1000000     43.227470"
      ]
     },
     "execution_count": 18,
     "metadata": {},
     "output_type": "execute_result"
    }
   ],
   "source": [
    "n = [10, 1000, 10000, 100000, 1000000]\n",
    "simu_edades =   list(map(lambda n: np.random.normal(np.mean(datos[\"Age_of_Driver\"]), np.std(datos[\"Age_of_Driver\"]), n), n))\n",
    "prob = list(map(lambda x: np.mean(x), simu_edades)) \n",
    "d = pd.DataFrame(data={'Simulaciones':prob},index=n)\n",
    "d"
   ]
  },
  {
   "cell_type": "code",
   "execution_count": 17,
   "metadata": {},
   "outputs": [
    {
     "data": {
      "text/html": [
       "<div>\n",
       "<style scoped>\n",
       "    .dataframe tbody tr th:only-of-type {\n",
       "        vertical-align: middle;\n",
       "    }\n",
       "\n",
       "    .dataframe tbody tr th {\n",
       "        vertical-align: top;\n",
       "    }\n",
       "\n",
       "    .dataframe thead th {\n",
       "        text-align: right;\n",
       "    }\n",
       "</style>\n",
       "<table border=\"1\" class=\"dataframe\">\n",
       "  <thead>\n",
       "    <tr style=\"text-align: right;\">\n",
       "      <th></th>\n",
       "      <th>Simulaciones</th>\n",
       "    </tr>\n",
       "  </thead>\n",
       "  <tbody>\n",
       "    <tr>\n",
       "      <td>10</td>\n",
       "      <td>45.345257</td>\n",
       "    </tr>\n",
       "    <tr>\n",
       "      <td>1000</td>\n",
       "      <td>43.846715</td>\n",
       "    </tr>\n",
       "    <tr>\n",
       "      <td>10000</td>\n",
       "      <td>43.338799</td>\n",
       "    </tr>\n",
       "    <tr>\n",
       "      <td>100000</td>\n",
       "      <td>43.221951</td>\n",
       "    </tr>\n",
       "    <tr>\n",
       "      <td>1000000</td>\n",
       "      <td>43.246268</td>\n",
       "    </tr>\n",
       "  </tbody>\n",
       "</table>\n",
       "</div>"
      ],
      "text/plain": [
       "         Simulaciones\n",
       "10          45.345257\n",
       "1000        43.846715\n",
       "10000       43.338799\n",
       "100000      43.221951\n",
       "1000000     43.246268"
      ]
     },
     "execution_count": 17,
     "metadata": {},
     "output_type": "execute_result"
    }
   ],
   "source": [
    "n = [10, 1000, 10000, 100000, 1000000]\n",
    "simu_edad = list(map(lambda n:st.norm.rvs(loc=para1[0], scale=para1[1], size=n), n))\n",
    "prob = list(map(lambda x: np.mean(x), simu_edad)) \n",
    "x = pd.DataFrame(data={'Simulaciones':prob}, index=n)\n",
    "x"
   ]
  },
  {
   "cell_type": "code",
   "execution_count": 18,
   "metadata": {},
   "outputs": [
    {
     "data": {
      "image/png": "[encoded data removed]",
      "text/plain": [
       "<Figure size 432x288 with 1 Axes>"
      ]
     },
     "metadata": {
      "needs_background": "light"
     },
     "output_type": "display_data"
    },
    {
     "data": {
      "text/plain": [
       "43.567254488235925"
      ]
     },
     "execution_count": 18,
     "metadata": {},
     "output_type": "execute_result"
    }
   ],
   "source": [
    "N = 1000\n",
    "# Método montecarlo estándar \n",
    "monte_estandar = st.norm.ppf(np.random.rand(N), loc=para1[0], scale=para1[1])\n",
    "plt.hist(monte_estandar,30,density=True, color=\"lightblue\")\n",
    "plt.title('Montecarlo estándar')\n",
    "plt.show()\n",
    "monte_estandar.mean()"
   ]
  },
  {
   "cell_type": "markdown",
   "metadata": {},
   "source": []
  },
  {
   "cell_type": "markdown",
   "metadata": {},
   "source": [
    "## <font color = \"darkgreen\"> Nodo 2: Sexo"
   ]
  },
  {
   "cell_type": "markdown",
   "metadata": {},
   "source": [
    "En este nodo se analizarán los datos sobre el sexo, dividiéndose en 2. Es decir:\n",
    "\n",
    "- 1 para los hombres\n",
    "\n",
    "- 2 para las mujeres\n",
    "\n",
    "Así podremos analizar si los hombres o las mujeres son los o las que más recurrentemente tienen más accidentes automovilísticos."
   ]
  },
  {
   "cell_type": "code",
   "execution_count": 19,
   "metadata": {},
   "outputs": [],
   "source": [
    "sexo = datos.iloc[:, 5:6]"
   ]
  },
  {
   "cell_type": "code",
   "execution_count": 20,
   "metadata": {},
   "outputs": [
    {
     "data": {
      "image/png": "[encoded data removed]",
      "text/plain": [
       "<Figure size 432x288 with 1 Axes>"
      ]
     },
     "metadata": {
      "needs_background": "light"
     },
     "output_type": "display_data"
    }
   ],
   "source": [
    "hist_sexo = sexo.plot.hist(grid=True, bins=2, rwidth=0.9, color='orange')"
   ]
  },
  {
   "cell_type": "code",
   "execution_count": 21,
   "metadata": {},
   "outputs": [
    {
     "data": {
      "text/plain": [
       "('norm', (0.0, 1.0))"
      ]
     },
     "execution_count": 21,
     "metadata": {},
     "output_type": "execute_result"
    }
   ],
   "source": [
    "best_fit_distribution(sexo)"
   ]
  },
  {
   "cell_type": "code",
   "execution_count": 22,
   "metadata": {},
   "outputs": [],
   "source": [
    "para2 = st.gamma.fit(datos['Sex_of_Driver'])"
   ]
  },
  {
   "cell_type": "code",
   "execution_count": 32,
   "metadata": {
    "collapsed": true
   },
   "outputs": [
    {
     "data": {
      "text/plain": [
       "array([0.00570342, 0.01140684, 0.01711027, 0.02281369, 0.02851711,\n",
       "       0.03422053, 0.03992395, 0.04562738, 0.0513308 , 0.0513308 ,\n",
       "       0.0513308 , 0.05703422, 0.06273764, 0.06273764, 0.06273764,\n",
       "       0.06844106, 0.07414449, 0.07984791, 0.08555133, 0.09125475,\n",
       "       0.09695817, 0.09695817, 0.1026616 , 0.10836502, 0.11406844,\n",
       "       0.11977186, 0.12547529, 0.13117871, 0.13117871, 0.13117871,\n",
       "       0.13688213, 0.13688213, 0.14258555, 0.14828897, 0.14828897,\n",
       "       0.1539924 , 0.15969582, 0.16539924, 0.16539924, 0.17110266,\n",
       "       0.17680608, 0.18250951, 0.18821293, 0.18821293, 0.19391635,\n",
       "       0.19961977, 0.20532319, 0.21102662, 0.21673004, 0.22243346,\n",
       "       0.22813688, 0.2338403 , 0.23954373, 0.24524715, 0.25095057,\n",
       "       0.25665399, 0.26235741, 0.26806084, 0.27376426, 0.27376426,\n",
       "       0.27946768, 0.2851711 , 0.29087452, 0.29657795, 0.30228137,\n",
       "       0.30798479, 0.31368821, 0.31939163, 0.32509506, 0.33079848,\n",
       "       0.3365019 , 0.34220532, 0.34220532, 0.34790875, 0.35361217,\n",
       "       0.35361217, 0.35361217, 0.35931559, 0.36501901, 0.36501901,\n",
       "       0.37072243, 0.37642586, 0.38212928, 0.38212928, 0.3878327 ,\n",
       "       0.39353612, 0.39923954, 0.40494297, 0.40494297, 0.41064639,\n",
       "       0.41064639, 0.41634981, 0.42205323, 0.42775665, 0.43346008,\n",
       "       0.4391635 , 0.44486692, 0.45057034, 0.45057034, 0.45057034,\n",
       "       0.45057034, 0.45057034, 0.45057034, 0.45057034, 0.45627376,\n",
       "       0.45627376, 0.46197719, 0.46768061, 0.47338403, 0.47908745,\n",
       "       0.48479087, 0.48479087, 0.4904943 , 0.4904943 , 0.49619772,\n",
       "       0.50190114, 0.50760456, 0.51330798, 0.51330798, 0.51901141,\n",
       "       0.52471483, 0.53041825, 0.53612167, 0.5418251 , 0.5418251 ,\n",
       "       0.5418251 , 0.54752852, 0.55323194, 0.55323194, 0.55893536,\n",
       "       0.56463878, 0.57034221, 0.57604563, 0.58174905, 0.58745247,\n",
       "       0.59315589, 0.59315589, 0.59315589, 0.59885932, 0.60456274,\n",
       "       0.61026616, 0.61026616, 0.61596958, 0.621673  , 0.62737643,\n",
       "       0.63307985, 0.63307985, 0.63878327, 0.64448669, 0.65019011,\n",
       "       0.65589354, 0.66159696, 0.66730038, 0.66730038, 0.66730038,\n",
       "       0.6730038 , 0.67870722, 0.67870722, 0.68441065, 0.68441065,\n",
       "       0.68441065, 0.68441065, 0.69011407, 0.69581749, 0.69581749,\n",
       "       0.70152091, 0.70722433, 0.71292776, 0.71863118, 0.71863118,\n",
       "       0.7243346 , 0.7243346 , 0.73003802, 0.73003802, 0.73574144,\n",
       "       0.74144487, 0.74714829, 0.75285171, 0.75855513, 0.76425856,\n",
       "       0.76996198, 0.7756654 , 0.7756654 , 0.78136882, 0.78707224,\n",
       "       0.79277567, 0.79847909, 0.80418251, 0.80988593, 0.80988593,\n",
       "       0.81558935, 0.82129278, 0.82129278, 0.82129278, 0.8269962 ,\n",
       "       0.83269962, 0.83840304, 0.83840304, 0.83840304, 0.84410646,\n",
       "       0.84410646, 0.84410646, 0.84980989, 0.84980989, 0.85551331,\n",
       "       0.86121673, 0.86692015, 0.87262357, 0.878327  , 0.878327  ,\n",
       "       0.88403042, 0.88403042, 0.88973384, 0.89543726, 0.89543726,\n",
       "       0.90114068, 0.90684411, 0.91254753, 0.91254753, 0.91254753,\n",
       "       0.91825095, 0.92395437, 0.92395437, 0.92965779, 0.92965779,\n",
       "       0.93536122, 0.94106464, 0.94676806, 0.95247148, 0.95247148,\n",
       "       0.95247148, 0.9581749 , 0.9581749 , 0.9581749 , 0.9581749 ,\n",
       "       0.96387833, 0.96387833, 0.96958175, 0.97528517, 0.98098859,\n",
       "       0.98669202, 0.99239544, 0.99239544, 0.99239544, 0.99809886,\n",
       "       1.00380228, 1.0095057 , 1.01520913, 1.02091255, 1.02661597,\n",
       "       1.02661597, 1.03231939, 1.03802281, 1.04372624, 1.04372624,\n",
       "       1.04372624, 1.04372624, 1.04942966, 1.04942966, 1.05513308,\n",
       "       1.0608365 , 1.0608365 , 1.06653992])"
      ]
     },
     "execution_count": 32,
     "metadata": {},
     "output_type": "execute_result"
    }
   ],
   "source": [
    "prob1 = (datos['Sex_of_Driver']==1)/263\n",
    "prob2 = (datos['Sex_of_Driver']==1)/526\n",
    "prob = [prob1 + prob2]\n",
    "p_acum = np.cumsum(prob)\n",
    "p_acum"
   ]
  },
  {
   "cell_type": "code",
   "execution_count": null,
   "metadata": {},
   "outputs": [],
   "source": [
    "p = "
   ]
  },
  {
   "cell_type": "code",
   "execution_count": 44,
   "metadata": {},
   "outputs": [],
   "source": [
    "N = 10**4\n",
    "u = np.random.rand(N)\n",
    "v = Gen_distr_discreta(u,p_acum)+1 #+1 porque los índices comienzan en 1 \n",
    "# print(u,v)\n",
    "\n",
    "# Método 1 (Correcto)\n",
    "hist,bins = np.histogram(v,bins=len(datos['Sex_of_Driver']))\n",
    "print(hist,bins)\n",
    "plt.bar(datos['Sex_of_Driver'],hist)\n",
    "plt.xlabel('valores (índices)')\n",
    "plt.ylabel('frecuencias')\n",
    "plt.show()"
   ]
  },
  {
   "cell_type": "code",
   "execution_count": 23,
   "metadata": {},
   "outputs": [
    {
     "data": {
      "image/png": "[encoded data removed]",
      "text/plain": [
       "<Figure size 432x288 with 1 Axes>"
      ]
     },
     "metadata": {
      "needs_background": "light"
     },
     "output_type": "display_data"
    },
    {
     "data": {
      "image/png": "[encoded data removed]",
      "text/plain": [
       "<Figure size 432x288 with 1 Axes>"
      ]
     },
     "metadata": {
      "needs_background": "light"
     },
     "output_type": "display_data"
    }
   ],
   "source": [
    "# Histograma de las variables creadas\n",
    "divisiones = 50  # Cantidad de barras en el histograma\n",
    "plt.hist(datos['Sex_of_Driver'], divisiones, density=True,label='Sexo del conductor')\n",
    "x = np.arange(0,10,.1)\n",
    "y = st.gamma.pdf(x, para2[0], loc=para2[1], scale=para2[2])\n",
    "plt.plot(x, y, 'k--')\n",
    "plt.ylabel('Probability')\n",
    "plt.grid()\n",
    "plt.show()\n",
    "\n",
    "# Gráfica de Q-Q entre las muestras creadas \n",
    "grap1 = st.probplot(datos['Number_of_Vehicles'], (para2[0],para2[1]), dist=\"gamma\", plot=plt)\n",
    "plt.grid()\n",
    "plt.show()"
   ]
  },
  {
   "cell_type": "code",
   "execution_count": 24,
   "metadata": {},
   "outputs": [
    {
     "data": {
      "text/plain": [
       "<matplotlib.axes._subplots.AxesSubplot at 0x1c1c109650>"
      ]
     },
     "execution_count": 24,
     "metadata": {},
     "output_type": "execute_result"
    },
    {
     "data": {
      "image/png": "[encoded data removed]",
      "text/plain": [
       "<Figure size 720x432 with 1 Axes>"
      ]
     },
     "metadata": {
      "needs_background": "light"
     },
     "output_type": "display_data"
    }
   ],
   "source": [
    "f, axes = plt.subplots(figsize=(10, 6))\n",
    "# Plot a simple histogram with binsize determined automatically\n",
    "sns.distplot(sexo, color=\"orange\", fit=st.expon)"
   ]
  },
  {
   "cell_type": "code",
   "execution_count": 25,
   "metadata": {},
   "outputs": [
    {
     "data": {
      "text/plain": [
       "(187, 76, 263)"
      ]
     },
     "execution_count": 25,
     "metadata": {},
     "output_type": "execute_result"
    }
   ],
   "source": [
    "hombres = (datos['Sex_of_Driver'] == 1).sum()\n",
    "mujeres = (datos['Sex_of_Driver'] == 2).sum()\n",
    "total = hombres + mujeres\n",
    "hombres, mujeres, total"
   ]
  },
  {
   "cell_type": "code",
   "execution_count": 26,
   "metadata": {},
   "outputs": [
    {
     "data": {
      "text/plain": [
       "(0.7110266159695817, 0.2889733840304182)"
      ]
     },
     "execution_count": 26,
     "metadata": {},
     "output_type": "execute_result"
    }
   ],
   "source": [
    "prob_hom = hombres/total\n",
    "prob_muj = mujeres/total\n",
    "prob_hom, prob_muj"
   ]
  },
  {
   "cell_type": "code",
   "execution_count": 69,
   "metadata": {},
   "outputs": [
    {
     "data": {
      "text/html": [
       "<div>\n",
       "<style scoped>\n",
       "    .dataframe tbody tr th:only-of-type {\n",
       "        vertical-align: middle;\n",
       "    }\n",
       "\n",
       "    .dataframe tbody tr th {\n",
       "        vertical-align: top;\n",
       "    }\n",
       "\n",
       "    .dataframe thead th {\n",
       "        text-align: right;\n",
       "    }\n",
       "</style>\n",
       "<table border=\"1\" class=\"dataframe\">\n",
       "  <thead>\n",
       "    <tr style=\"text-align: right;\">\n",
       "      <th></th>\n",
       "      <th>Probabilidad_hombre</th>\n",
       "      <th>Probabilidad_mujer</th>\n",
       "      <th>P_acumulada</th>\n",
       "    </tr>\n",
       "  </thead>\n",
       "  <tbody>\n",
       "    <tr>\n",
       "      <td>0</td>\n",
       "      <td>0.711027</td>\n",
       "      <td>0.288973</td>\n",
       "      <td>1.0</td>\n",
       "    </tr>\n",
       "  </tbody>\n",
       "</table>\n",
       "</div>"
      ],
      "text/plain": [
       "   Probabilidad_hombre  Probabilidad_mujer  P_acumulada\n",
       "0             0.711027            0.288973          1.0"
      ]
     },
     "execution_count": 69,
     "metadata": {},
     "output_type": "execute_result"
    }
   ],
   "source": [
    "prob_hom = [0.7110266159695817]\n",
    "prob_muj = [0.2889733840304182]\n",
    "\n",
    "data = pd.DataFrame(columns = [\"Probabilidad_hombre\", \"Probabilidad_mujer\", \"P_acumulada\"])\n",
    "data.index.name = \"Numero_ventas\"\n",
    "data[\"Probabilidad_hombre\"] = prob_hom\n",
    "data[\"Probabilidad_mujer\"] = prob_muj\n",
    "data[\"P_acumulada\"] = data[\"Probabilidad_hombre\"] + data[\"Probabilidad_mujer\"]\n",
    "data"
   ]
  },
  {
   "cell_type": "code",
   "execution_count": 75,
   "metadata": {},
   "outputs": [
    {
     "ename": "SyntaxError",
     "evalue": "can't assign to comparison (<ipython-input-75-57b423d1c49c>, line 1)",
     "output_type": "error",
     "traceback": [
      "\u001b[0;36m  File \u001b[0;32m\"<ipython-input-75-57b423d1c49c>\"\u001b[0;36m, line \u001b[0;32m1\u001b[0m\n\u001b[0;31m    (datos['Sex_of_Driver'] == 1) = 0.002703524\u001b[0m\n\u001b[0m                                               ^\u001b[0m\n\u001b[0;31mSyntaxError\u001b[0m\u001b[0;31m:\u001b[0m can't assign to comparison\n"
     ]
    }
   ],
   "source": [
    "hombres = (datos['Sex_of_Driver'] == 1) = 0.002703524\n",
    "mujeres = (datos['Sex_of_Driver'] == 2) = 0.001098756"
   ]
  },
  {
   "cell_type": "code",
   "execution_count": 73,
   "metadata": {},
   "outputs": [
    {
     "data": {
      "text/plain": [
       "Date\n",
       "01/01/18    1\n",
       "01/01/18    1\n",
       "01/01/18    1\n",
       "01/01/18    1\n",
       "01/01/18    1\n",
       "           ..\n",
       "07/01/18    2\n",
       "06/01/18    1\n",
       "06/01/18    1\n",
       "07/01/18    2\n",
       "07/01/18    1\n",
       "Name: Sex_of_Driver, Length: 263, dtype: int64"
      ]
     },
     "execution_count": 73,
     "metadata": {},
     "output_type": "execute_result"
    }
   ],
   "source": [
    "datos['Sex_of_Driver']"
   ]
  },
  {
   "cell_type": "code",
   "execution_count": 72,
   "metadata": {},
   "outputs": [
    {
     "ename": "IndexError",
     "evalue": "index out of bounds",
     "output_type": "error",
     "traceback": [
      "\u001b[0;31m---------------------------------------------------------------------------\u001b[0m",
      "\u001b[0;31mKeyError\u001b[0m                                  Traceback (most recent call last)",
      "\u001b[0;32m/opt/anaconda3/lib/python3.7/site-packages/pandas/core/indexes/base.py\u001b[0m in \u001b[0;36mget_value\u001b[0;34m(self, series, key)\u001b[0m\n\u001b[1;32m   4729\u001b[0m         \u001b[0;32mtry\u001b[0m\u001b[0;34m:\u001b[0m\u001b[0;34m\u001b[0m\u001b[0;34m\u001b[0m\u001b[0m\n\u001b[0;32m-> 4730\u001b[0;31m             \u001b[0;32mreturn\u001b[0m \u001b[0mself\u001b[0m\u001b[0;34m.\u001b[0m\u001b[0m_engine\u001b[0m\u001b[0;34m.\u001b[0m\u001b[0mget_value\u001b[0m\u001b[0;34m(\u001b[0m\u001b[0ms\u001b[0m\u001b[0;34m,\u001b[0m \u001b[0mk\u001b[0m\u001b[0;34m,\u001b[0m \u001b[0mtz\u001b[0m\u001b[0;34m=\u001b[0m\u001b[0mgetattr\u001b[0m\u001b[0;34m(\u001b[0m\u001b[0mseries\u001b[0m\u001b[0;34m.\u001b[0m\u001b[0mdtype\u001b[0m\u001b[0;34m,\u001b[0m \u001b[0;34m\"tz\"\u001b[0m\u001b[0;34m,\u001b[0m \u001b[0;32mNone\u001b[0m\u001b[0;34m)\u001b[0m\u001b[0;34m)\u001b[0m\u001b[0;34m\u001b[0m\u001b[0;34m\u001b[0m\u001b[0m\n\u001b[0m\u001b[1;32m   4731\u001b[0m         \u001b[0;32mexcept\u001b[0m \u001b[0mKeyError\u001b[0m \u001b[0;32mas\u001b[0m \u001b[0me1\u001b[0m\u001b[0;34m:\u001b[0m\u001b[0;34m\u001b[0m\u001b[0;34m\u001b[0m\u001b[0m\n",
      "\u001b[0;32mpandas/_libs/index.pyx\u001b[0m in \u001b[0;36mpandas._libs.index.IndexEngine.get_value\u001b[0;34m()\u001b[0m\n",
      "\u001b[0;32mpandas/_libs/index.pyx\u001b[0m in \u001b[0;36mpandas._libs.index.IndexEngine.get_value\u001b[0;34m()\u001b[0m\n",
      "\u001b[0;32mpandas/_libs/index.pyx\u001b[0m in \u001b[0;36mpandas._libs.index.IndexEngine.get_loc\u001b[0;34m()\u001b[0m\n",
      "\u001b[0;32mpandas/_libs/index.pyx\u001b[0m in \u001b[0;36mpandas._libs.index.IndexEngine._get_loc_duplicates\u001b[0;34m()\u001b[0m\n",
      "\u001b[0;32mpandas/_libs/index.pyx\u001b[0m in \u001b[0;36mpandas._libs.index.IndexEngine._maybe_get_bool_indexer\u001b[0;34m()\u001b[0m\n",
      "\u001b[0;31mKeyError\u001b[0m: 263",
      "\nDuring handling of the above exception, another exception occurred:\n",
      "\u001b[0;31mIndexError\u001b[0m                                Traceback (most recent call last)",
      "\u001b[0;32m<ipython-input-72-ccfbc492a0d3>\u001b[0m in \u001b[0;36m<module>\u001b[0;34m\u001b[0m\n\u001b[1;32m      2\u001b[0m \u001b[0mu\u001b[0m \u001b[0;34m=\u001b[0m \u001b[0mdatos\u001b[0m\u001b[0;34m[\u001b[0m\u001b[0;34m'Sex_of_Driver'\u001b[0m\u001b[0;34m]\u001b[0m\u001b[0;34m\u001b[0m\u001b[0;34m\u001b[0m\u001b[0m\n\u001b[1;32m      3\u001b[0m \u001b[0mp_acum\u001b[0m \u001b[0;34m=\u001b[0m \u001b[0mdata\u001b[0m\u001b[0;34m[\u001b[0m\u001b[0;34m\"P_acumulada\"\u001b[0m\u001b[0;34m]\u001b[0m\u001b[0;34m\u001b[0m\u001b[0;34m\u001b[0m\u001b[0m\n\u001b[0;32m----> 4\u001b[0;31m \u001b[0mv\u001b[0m \u001b[0;34m=\u001b[0m \u001b[0mGen_distr_discreta\u001b[0m\u001b[0;34m(\u001b[0m\u001b[0mu\u001b[0m\u001b[0;34m,\u001b[0m\u001b[0mp_acum\u001b[0m\u001b[0;34m)\u001b[0m\u001b[0;34m+\u001b[0m\u001b[0;36m1\u001b[0m \u001b[0;31m#+1 porque los índices comienzan en 1\u001b[0m\u001b[0;34m\u001b[0m\u001b[0;34m\u001b[0m\u001b[0m\n\u001b[0m\u001b[1;32m      5\u001b[0m \u001b[0;31m# print(u,v)\u001b[0m\u001b[0;34m\u001b[0m\u001b[0;34m\u001b[0m\u001b[0;34m\u001b[0m\u001b[0m\n\u001b[1;32m      6\u001b[0m \u001b[0;34m\u001b[0m\u001b[0m\n",
      "\u001b[0;32m<ipython-input-45-16b4bf260010>\u001b[0m in \u001b[0;36mGen_distr_discreta\u001b[0;34m(U, p_acum)\u001b[0m\n\u001b[1;32m     44\u001b[0m                        p_acum: 'P.Acumulada de la distribución a generar'):\n\u001b[1;32m     45\u001b[0m     \u001b[0;34m'''Tener en cuenta que este arreglo cuenta números empezando del 0'''\u001b[0m\u001b[0;34m\u001b[0m\u001b[0;34m\u001b[0m\u001b[0m\n\u001b[0;32m---> 46\u001b[0;31m     \u001b[0mv\u001b[0m \u001b[0;34m=\u001b[0m \u001b[0mnp\u001b[0m\u001b[0;34m.\u001b[0m\u001b[0marray\u001b[0m\u001b[0;34m(\u001b[0m\u001b[0mlist\u001b[0m\u001b[0;34m(\u001b[0m\u001b[0mmap\u001b[0m\u001b[0;34m(\u001b[0m\u001b[0;32mlambda\u001b[0m \u001b[0mj\u001b[0m\u001b[0;34m:\u001b[0m\u001b[0msum\u001b[0m\u001b[0;34m(\u001b[0m\u001b[0;36m1\u001b[0m \u001b[0;32mfor\u001b[0m \u001b[0mi\u001b[0m \u001b[0;32min\u001b[0m \u001b[0mp_acum\u001b[0m \u001b[0;32mif\u001b[0m \u001b[0mi\u001b[0m\u001b[0;34m<\u001b[0m\u001b[0mU\u001b[0m\u001b[0;34m[\u001b[0m\u001b[0mj\u001b[0m\u001b[0;34m]\u001b[0m\u001b[0;34m)\u001b[0m\u001b[0;34m,\u001b[0m\u001b[0mrange\u001b[0m\u001b[0;34m(\u001b[0m\u001b[0mN\u001b[0m\u001b[0;34m)\u001b[0m\u001b[0;34m)\u001b[0m\u001b[0;34m)\u001b[0m\u001b[0;34m)\u001b[0m\u001b[0;34m\u001b[0m\u001b[0;34m\u001b[0m\u001b[0m\n\u001b[0m\u001b[1;32m     47\u001b[0m     \u001b[0;32mreturn\u001b[0m \u001b[0mv\u001b[0m\u001b[0;34m\u001b[0m\u001b[0;34m\u001b[0m\u001b[0m\n\u001b[1;32m     48\u001b[0m \u001b[0;34m\u001b[0m\u001b[0m\n",
      "\u001b[0;32m<ipython-input-45-16b4bf260010>\u001b[0m in \u001b[0;36m<lambda>\u001b[0;34m(j)\u001b[0m\n\u001b[1;32m     44\u001b[0m                        p_acum: 'P.Acumulada de la distribución a generar'):\n\u001b[1;32m     45\u001b[0m     \u001b[0;34m'''Tener en cuenta que este arreglo cuenta números empezando del 0'''\u001b[0m\u001b[0;34m\u001b[0m\u001b[0;34m\u001b[0m\u001b[0m\n\u001b[0;32m---> 46\u001b[0;31m     \u001b[0mv\u001b[0m \u001b[0;34m=\u001b[0m \u001b[0mnp\u001b[0m\u001b[0;34m.\u001b[0m\u001b[0marray\u001b[0m\u001b[0;34m(\u001b[0m\u001b[0mlist\u001b[0m\u001b[0;34m(\u001b[0m\u001b[0mmap\u001b[0m\u001b[0;34m(\u001b[0m\u001b[0;32mlambda\u001b[0m \u001b[0mj\u001b[0m\u001b[0;34m:\u001b[0m\u001b[0msum\u001b[0m\u001b[0;34m(\u001b[0m\u001b[0;36m1\u001b[0m \u001b[0;32mfor\u001b[0m \u001b[0mi\u001b[0m \u001b[0;32min\u001b[0m \u001b[0mp_acum\u001b[0m \u001b[0;32mif\u001b[0m \u001b[0mi\u001b[0m\u001b[0;34m<\u001b[0m\u001b[0mU\u001b[0m\u001b[0;34m[\u001b[0m\u001b[0mj\u001b[0m\u001b[0;34m]\u001b[0m\u001b[0;34m)\u001b[0m\u001b[0;34m,\u001b[0m\u001b[0mrange\u001b[0m\u001b[0;34m(\u001b[0m\u001b[0mN\u001b[0m\u001b[0;34m)\u001b[0m\u001b[0;34m)\u001b[0m\u001b[0;34m)\u001b[0m\u001b[0;34m)\u001b[0m\u001b[0;34m\u001b[0m\u001b[0;34m\u001b[0m\u001b[0m\n\u001b[0m\u001b[1;32m     47\u001b[0m     \u001b[0;32mreturn\u001b[0m \u001b[0mv\u001b[0m\u001b[0;34m\u001b[0m\u001b[0;34m\u001b[0m\u001b[0m\n\u001b[1;32m     48\u001b[0m \u001b[0;34m\u001b[0m\u001b[0m\n",
      "\u001b[0;32m<ipython-input-45-16b4bf260010>\u001b[0m in \u001b[0;36m<genexpr>\u001b[0;34m(.0)\u001b[0m\n\u001b[1;32m     44\u001b[0m                        p_acum: 'P.Acumulada de la distribución a generar'):\n\u001b[1;32m     45\u001b[0m     \u001b[0;34m'''Tener en cuenta que este arreglo cuenta números empezando del 0'''\u001b[0m\u001b[0;34m\u001b[0m\u001b[0;34m\u001b[0m\u001b[0m\n\u001b[0;32m---> 46\u001b[0;31m     \u001b[0mv\u001b[0m \u001b[0;34m=\u001b[0m \u001b[0mnp\u001b[0m\u001b[0;34m.\u001b[0m\u001b[0marray\u001b[0m\u001b[0;34m(\u001b[0m\u001b[0mlist\u001b[0m\u001b[0;34m(\u001b[0m\u001b[0mmap\u001b[0m\u001b[0;34m(\u001b[0m\u001b[0;32mlambda\u001b[0m \u001b[0mj\u001b[0m\u001b[0;34m:\u001b[0m\u001b[0msum\u001b[0m\u001b[0;34m(\u001b[0m\u001b[0;36m1\u001b[0m \u001b[0;32mfor\u001b[0m \u001b[0mi\u001b[0m \u001b[0;32min\u001b[0m \u001b[0mp_acum\u001b[0m \u001b[0;32mif\u001b[0m \u001b[0mi\u001b[0m\u001b[0;34m<\u001b[0m\u001b[0mU\u001b[0m\u001b[0;34m[\u001b[0m\u001b[0mj\u001b[0m\u001b[0;34m]\u001b[0m\u001b[0;34m)\u001b[0m\u001b[0;34m,\u001b[0m\u001b[0mrange\u001b[0m\u001b[0;34m(\u001b[0m\u001b[0mN\u001b[0m\u001b[0;34m)\u001b[0m\u001b[0;34m)\u001b[0m\u001b[0;34m)\u001b[0m\u001b[0;34m)\u001b[0m\u001b[0;34m\u001b[0m\u001b[0;34m\u001b[0m\u001b[0m\n\u001b[0m\u001b[1;32m     47\u001b[0m     \u001b[0;32mreturn\u001b[0m \u001b[0mv\u001b[0m\u001b[0;34m\u001b[0m\u001b[0;34m\u001b[0m\u001b[0m\n\u001b[1;32m     48\u001b[0m \u001b[0;34m\u001b[0m\u001b[0m\n",
      "\u001b[0;32m/opt/anaconda3/lib/python3.7/site-packages/pandas/core/series.py\u001b[0m in \u001b[0;36m__getitem__\u001b[0;34m(self, key)\u001b[0m\n\u001b[1;32m   1066\u001b[0m         \u001b[0mkey\u001b[0m \u001b[0;34m=\u001b[0m \u001b[0mcom\u001b[0m\u001b[0;34m.\u001b[0m\u001b[0mapply_if_callable\u001b[0m\u001b[0;34m(\u001b[0m\u001b[0mkey\u001b[0m\u001b[0;34m,\u001b[0m \u001b[0mself\u001b[0m\u001b[0;34m)\u001b[0m\u001b[0;34m\u001b[0m\u001b[0;34m\u001b[0m\u001b[0m\n\u001b[1;32m   1067\u001b[0m         \u001b[0;32mtry\u001b[0m\u001b[0;34m:\u001b[0m\u001b[0;34m\u001b[0m\u001b[0;34m\u001b[0m\u001b[0m\n\u001b[0;32m-> 1068\u001b[0;31m             \u001b[0mresult\u001b[0m \u001b[0;34m=\u001b[0m \u001b[0mself\u001b[0m\u001b[0;34m.\u001b[0m\u001b[0mindex\u001b[0m\u001b[0;34m.\u001b[0m\u001b[0mget_value\u001b[0m\u001b[0;34m(\u001b[0m\u001b[0mself\u001b[0m\u001b[0;34m,\u001b[0m \u001b[0mkey\u001b[0m\u001b[0;34m)\u001b[0m\u001b[0;34m\u001b[0m\u001b[0;34m\u001b[0m\u001b[0m\n\u001b[0m\u001b[1;32m   1069\u001b[0m \u001b[0;34m\u001b[0m\u001b[0m\n\u001b[1;32m   1070\u001b[0m             \u001b[0;32mif\u001b[0m \u001b[0;32mnot\u001b[0m \u001b[0mis_scalar\u001b[0m\u001b[0;34m(\u001b[0m\u001b[0mresult\u001b[0m\u001b[0;34m)\u001b[0m\u001b[0;34m:\u001b[0m\u001b[0;34m\u001b[0m\u001b[0;34m\u001b[0m\u001b[0m\n",
      "\u001b[0;32m/opt/anaconda3/lib/python3.7/site-packages/pandas/core/indexes/base.py\u001b[0m in \u001b[0;36mget_value\u001b[0;34m(self, series, key)\u001b[0m\n\u001b[1;32m   4734\u001b[0m \u001b[0;34m\u001b[0m\u001b[0m\n\u001b[1;32m   4735\u001b[0m             \u001b[0;32mtry\u001b[0m\u001b[0;34m:\u001b[0m\u001b[0;34m\u001b[0m\u001b[0;34m\u001b[0m\u001b[0m\n\u001b[0;32m-> 4736\u001b[0;31m                 \u001b[0;32mreturn\u001b[0m \u001b[0mlibindex\u001b[0m\u001b[0;34m.\u001b[0m\u001b[0mget_value_box\u001b[0m\u001b[0;34m(\u001b[0m\u001b[0ms\u001b[0m\u001b[0;34m,\u001b[0m \u001b[0mkey\u001b[0m\u001b[0;34m)\u001b[0m\u001b[0;34m\u001b[0m\u001b[0;34m\u001b[0m\u001b[0m\n\u001b[0m\u001b[1;32m   4737\u001b[0m             \u001b[0;32mexcept\u001b[0m \u001b[0mIndexError\u001b[0m\u001b[0;34m:\u001b[0m\u001b[0;34m\u001b[0m\u001b[0;34m\u001b[0m\u001b[0m\n\u001b[1;32m   4738\u001b[0m                 \u001b[0;32mraise\u001b[0m\u001b[0;34m\u001b[0m\u001b[0;34m\u001b[0m\u001b[0m\n",
      "\u001b[0;32mpandas/_libs/index.pyx\u001b[0m in \u001b[0;36mpandas._libs.index.get_value_box\u001b[0;34m()\u001b[0m\n",
      "\u001b[0;32mpandas/_libs/index.pyx\u001b[0m in \u001b[0;36mpandas._libs.index.get_value_at\u001b[0;34m()\u001b[0m\n",
      "\u001b[0;32mpandas/_libs/util.pxd\u001b[0m in \u001b[0;36mpandas._libs.util.get_value_at\u001b[0;34m()\u001b[0m\n",
      "\u001b[0;32mpandas/_libs/util.pxd\u001b[0m in \u001b[0;36mpandas._libs.util.validate_indexer\u001b[0;34m()\u001b[0m\n",
      "\u001b[0;31mIndexError\u001b[0m: index out of bounds"
     ]
    }
   ],
   "source": [
    "N = 10**4\n",
    "u = data[\"Probabilidad_hombre\"]\n",
    "p_acum = data[\"P_acumulada\"]\n",
    "v = Gen_distr_discreta(u,p_acum)+1 #+1 porque los índices comienzan en 1 \n",
    "# print(u,v)\n",
    "\n",
    "# Método 1 (Correcto)\n",
    "hist,bins = np.histogram(v,bins=len(val))\n",
    "print(hist,bins)\n",
    "plt.bar(val,hist)\n",
    "plt.xlabel('valores (índices)')\n",
    "plt.ylabel('frecuencias')\n",
    "plt.show()"
   ]
  },
  {
   "cell_type": "code",
   "execution_count": 29,
   "metadata": {},
   "outputs": [
    {
     "data": {
      "text/html": [
       "<div>\n",
       "<style scoped>\n",
       "    .dataframe tbody tr th:only-of-type {\n",
       "        vertical-align: middle;\n",
       "    }\n",
       "\n",
       "    .dataframe tbody tr th {\n",
       "        vertical-align: top;\n",
       "    }\n",
       "\n",
       "    .dataframe thead th {\n",
       "        text-align: right;\n",
       "    }\n",
       "</style>\n",
       "<table border=\"1\" class=\"dataframe\">\n",
       "  <thead>\n",
       "    <tr style=\"text-align: right;\">\n",
       "      <th></th>\n",
       "      <th>Simulaciones</th>\n",
       "    </tr>\n",
       "  </thead>\n",
       "  <tbody>\n",
       "    <tr>\n",
       "      <td>10</td>\n",
       "      <td>1.134380</td>\n",
       "    </tr>\n",
       "    <tr>\n",
       "      <td>1000</td>\n",
       "      <td>1.121585</td>\n",
       "    </tr>\n",
       "    <tr>\n",
       "      <td>10000</td>\n",
       "      <td>1.121008</td>\n",
       "    </tr>\n",
       "    <tr>\n",
       "      <td>100000</td>\n",
       "      <td>1.120310</td>\n",
       "    </tr>\n",
       "    <tr>\n",
       "      <td>1000000</td>\n",
       "      <td>1.120872</td>\n",
       "    </tr>\n",
       "  </tbody>\n",
       "</table>\n",
       "</div>"
      ],
      "text/plain": [
       "         Simulaciones\n",
       "10           1.134380\n",
       "1000         1.121585\n",
       "10000        1.121008\n",
       "100000       1.120310\n",
       "1000000      1.120872"
      ]
     },
     "execution_count": 29,
     "metadata": {},
     "output_type": "execute_result"
    }
   ],
   "source": [
    "n = [10, 1000, 10000, 100000, 1000000]\n",
    "simu_sexo = list(map(lambda n: st.gamma.rvs(para2[0], loc=para2[1], scale=para2[2], size=n), n))\n",
    "prob = list(map(lambda x: np.mean(x), simu_sexo)) \n",
    "x = pd.DataFrame(data={'Simulaciones':prob}, index=n)\n",
    "x"
   ]
  },
  {
   "cell_type": "code",
   "execution_count": 30,
   "metadata": {},
   "outputs": [
    {
     "data": {
      "text/html": [
       "<div>\n",
       "<style scoped>\n",
       "    .dataframe tbody tr th:only-of-type {\n",
       "        vertical-align: middle;\n",
       "    }\n",
       "\n",
       "    .dataframe tbody tr th {\n",
       "        vertical-align: top;\n",
       "    }\n",
       "\n",
       "    .dataframe thead th {\n",
       "        text-align: right;\n",
       "    }\n",
       "</style>\n",
       "<table border=\"1\" class=\"dataframe\">\n",
       "  <thead>\n",
       "    <tr style=\"text-align: right;\">\n",
       "      <th></th>\n",
       "      <th>Simulaciones</th>\n",
       "    </tr>\n",
       "  </thead>\n",
       "  <tbody>\n",
       "    <tr>\n",
       "      <td>10</td>\n",
       "      <td>0.785759</td>\n",
       "    </tr>\n",
       "    <tr>\n",
       "      <td>1000</td>\n",
       "      <td>0.631190</td>\n",
       "    </tr>\n",
       "    <tr>\n",
       "      <td>10000</td>\n",
       "      <td>0.590978</td>\n",
       "    </tr>\n",
       "    <tr>\n",
       "      <td>100000</td>\n",
       "      <td>0.584090</td>\n",
       "    </tr>\n",
       "    <tr>\n",
       "      <td>1000000</td>\n",
       "      <td>0.584780</td>\n",
       "    </tr>\n",
       "  </tbody>\n",
       "</table>\n",
       "</div>"
      ],
      "text/plain": [
       "         Simulaciones\n",
       "10           0.785759\n",
       "1000         0.631190\n",
       "10000        0.590978\n",
       "100000       0.584090\n",
       "1000000      0.584780"
      ]
     },
     "execution_count": 30,
     "metadata": {},
     "output_type": "execute_result"
    }
   ],
   "source": [
    "n = [10, 1000, 10000, 100000, 1000000]\n",
    "simu_edades =   list(map(lambda n: np.random.gamma(np.mean(datos[\"Sex_of_Driver\"]),np.std(datos[\"Sex_of_Driver\"]),n),n))\n",
    "prob = list(map(lambda x: np.mean(x), simu_edades)) \n",
    "d = pd.DataFrame(data={'Simulaciones':prob}, index=n)\n",
    "d"
   ]
  },
  {
   "cell_type": "code",
   "execution_count": 41,
   "metadata": {},
   "outputs": [
    {
     "data": {
      "image/png": "[encoded data removed]",
      "text/plain": [
       "<Figure size 576x288 with 1 Axes>"
      ]
     },
     "metadata": {
      "needs_background": "light"
     },
     "output_type": "display_data"
    }
   ],
   "source": [
    "n = 1; p = 0.3; N = 10**4\n",
    "\n",
    "p_acum = P_acum_Binomial_o(n,p)\n",
    "u = np.random.rand(N)\n",
    "\n",
    "# Usando el método de la transformada inversa\n",
    "d_binomial = Gen_distr_discreta(u,p_acum)\n",
    "plot_histogram_discrete(d_binomial,'usando función creada')"
   ]
  },
  {
   "cell_type": "markdown",
   "metadata": {},
   "source": [
    "## <font color = \"darkgreen\"> Nodo 3: Víctimas en el accidente"
   ]
  },
  {
   "cell_type": "markdown",
   "metadata": {},
   "source": [
    "En este apartado se verán el número de fallecidos en el percance, viendo la edad y el sexo y de estos nos centraremos en la edad de las personas que fallecieron para así analizar la ocurrencia."
   ]
  },
  {
   "cell_type": "code",
   "execution_count": 76,
   "metadata": {},
   "outputs": [],
   "source": [
    "edad_fall = datos.iloc[:, 8:9]\n",
    "sexo_fall = datos.iloc[:, 6:7]\n",
    "muertes = datos.iloc[:, 2:3]"
   ]
  },
  {
   "cell_type": "code",
   "execution_count": null,
   "metadata": {},
   "outputs": [],
   "source": []
  },
  {
   "cell_type": "code",
   "execution_count": 77,
   "metadata": {},
   "outputs": [
    {
     "data": {
      "image/png": "[encoded data removed]",
      "text/plain": [
       "<Figure size 432x288 with 1 Axes>"
      ]
     },
     "metadata": {
      "needs_background": "light"
     },
     "output_type": "display_data"
    }
   ],
   "source": [
    "hist_victimas = muertes.plot.hist(grid=True, bins=10, rwidth=0.9, color='lightblue')"
   ]
  },
  {
   "cell_type": "code",
   "execution_count": 78,
   "metadata": {},
   "outputs": [
    {
     "data": {
      "image/png": "[encoded data removed]",
      "text/plain": [
       "<Figure size 432x288 with 1 Axes>"
      ]
     },
     "metadata": {
      "needs_background": "light"
     },
     "output_type": "display_data"
    }
   ],
   "source": [
    "hist_sexo_victimas = sexo_fall.plot.hist(grid=True, bins=2, rwidth=0.9, color='lightpink')"
   ]
  },
  {
   "cell_type": "code",
   "execution_count": 79,
   "metadata": {},
   "outputs": [
    {
     "data": {
      "image/png": "[encoded data removed]",
      "text/plain": [
       "<Figure size 432x288 with 1 Axes>"
      ]
     },
     "metadata": {
      "needs_background": "light"
     },
     "output_type": "display_data"
    }
   ],
   "source": [
    "hist_edad_victimas = edad_fall.plot.hist(grid=True, bins=10, rwidth=0.9, color='lightgreen')"
   ]
  },
  {
   "cell_type": "code",
   "execution_count": 80,
   "metadata": {},
   "outputs": [
    {
     "data": {
      "text/plain": [
       "Number_of_Casualties    324\n",
       "dtype: int64"
      ]
     },
     "execution_count": 80,
     "metadata": {},
     "output_type": "execute_result"
    }
   ],
   "source": [
    "total_muertes = datos.iloc[:, 2:3].sum()\n",
    "total_muertes"
   ]
  },
  {
   "cell_type": "markdown",
   "metadata": {},
   "source": [
    "Aquí podemos ver el total de personas que murieron que fueron 324, pero nos centraremos en analizar a que edad fue que hubo más fallecidos."
   ]
  },
  {
   "cell_type": "code",
   "execution_count": 81,
   "metadata": {},
   "outputs": [
    {
     "data": {
      "text/plain": [
       "('norm', (0.0, 1.0))"
      ]
     },
     "execution_count": 81,
     "metadata": {},
     "output_type": "execute_result"
    }
   ],
   "source": [
    "best_fit_distribution(edad_fall)"
   ]
  },
  {
   "cell_type": "code",
   "execution_count": 82,
   "metadata": {},
   "outputs": [],
   "source": [
    "para3 = st.norm.fit(datos['Age_of_Casualty'])"
   ]
  },
  {
   "cell_type": "code",
   "execution_count": 83,
   "metadata": {},
   "outputs": [
    {
     "data": {
      "image/png": "[encoded data removed]",
      "text/plain": [
       "<Figure size 432x288 with 1 Axes>"
      ]
     },
     "metadata": {
      "needs_background": "light"
     },
     "output_type": "display_data"
    },
    {
     "data": {
      "image/png": "[encoded data removed]",
      "text/plain": [
       "<Figure size 432x288 with 1 Axes>"
      ]
     },
     "metadata": {
      "needs_background": "light"
     },
     "output_type": "display_data"
    }
   ],
   "source": [
    "# Histograma de las variables creadas\n",
    "divisiones = 100 # Cantidad de barras en el histograma\n",
    "plt.hist(datos['Age_of_Casualty'], divisiones, density=True, label='Edad del fallecido')\n",
    "x = np.arange(0,90,.01)\n",
    "y = st.norm.pdf(x, loc=para3[0], scale=para3[1])\n",
    "plt.plot(x, y, 'k--')\n",
    "plt.ylabel('Probability')\n",
    "plt.grid()\n",
    "plt.show()\n",
    "\n",
    "# Gráfica de Q-Q entre las muestras creadas y una curva normal\n",
    "st.probplot(datos['Age_of_Casualty'], (para3[0],para3[1]), dist=\"norm\", plot=plt)\n",
    "plt.grid()\n",
    "plt.title('Distribución normal')\n",
    "plt.xlabel('Normal theorical quantiles')\n",
    "plt.ylabel('Data theorical quantiles')\n",
    "plt.show()"
   ]
  },
  {
   "cell_type": "code",
   "execution_count": 84,
   "metadata": {},
   "outputs": [
    {
     "data": {
      "text/plain": [
       "<matplotlib.axes._subplots.AxesSubplot at 0x1c2475b990>"
      ]
     },
     "execution_count": 84,
     "metadata": {},
     "output_type": "execute_result"
    },
    {
     "data": {
      "image/png": "[encoded data removed]",
      "text/plain": [
       "<Figure size 720x432 with 1 Axes>"
      ]
     },
     "metadata": {
      "needs_background": "light"
     },
     "output_type": "display_data"
    }
   ],
   "source": [
    "f, axes = plt.subplots(figsize=(10, 6))\n",
    "# Plot a simple histogram with binsize determined automatically\n",
    "sns.distplot(edad_fall, color=\"green\", fit=st.norm, norm_hist=True)"
   ]
  },
  {
   "cell_type": "code",
   "execution_count": 40,
   "metadata": {},
   "outputs": [
    {
     "name": "stdout",
     "output_type": "stream",
     "text": [
      "La media es  =  Age_of_Casualty    37.330798\n",
      "dtype: float64\n",
      "La desviación estándar es =  Age_of_Casualty    16.897164\n",
      "dtype: float64\n"
     ]
    }
   ],
   "source": [
    "mu = np.mean(edad_fall)\n",
    "sigma = np.std(edad_fall)\n",
    "print(\"La media es  = \", mu)\n",
    "print(\"La desviación estándar es = \", sigma)"
   ]
  },
  {
   "cell_type": "markdown",
   "metadata": {},
   "source": [
    "### Se desea resolver la siguiente prueba de hipótesis\n",
    "> $H_0$: la distribución es normal con ´media= $\\mu$´ y ´desviación estándar = $\\sigma$´\n",
    "\n",
    "> $H_a$: los datos no se distribuyen normales"
   ]
  },
  {
   "cell_type": "code",
   "execution_count": 41,
   "metadata": {},
   "outputs": [
    {
     "data": {
      "image/png": "[encoded data removed]",
      "text/plain": [
       "<Figure size 432x288 with 1 Axes>"
      ]
     },
     "metadata": {
      "needs_background": "light"
     },
     "output_type": "display_data"
    },
    {
     "name": "stdout",
     "output_type": "stream",
     "text": [
      "media mu =45.027778, desviación estándar muestral =24.535872\n"
     ]
    },
    {
     "data": {
      "text/plain": [
       "(45.02777777777778, 24.535871740323657)"
      ]
     },
     "execution_count": 41,
     "metadata": {},
     "output_type": "execute_result"
    }
   ],
   "source": [
    "np.random.seed(555)\n",
    "mu_real = mu; sigma_real = sigma\n",
    "N = 100 # Cantidad de muestras\n",
    "n1 = datos[\"Age_of_Casualty\"]\n",
    "# datos aqui en n1 para el proyecto\n",
    "J = 90  # Cantidad de particiones del histograma\n",
    "[freq,x,p] = plt.hist(n1,J,density=True)\n",
    "plt.show()\n",
    "# Se obvia el último valor de x para obtener exactamente J muestras de x\n",
    "x = x[:-1] \n",
    "# Media y desviación estándar muestral\n",
    "mu = np.mean(x)\n",
    "sigma = np.std(x)\n",
    "print('media mu =%f, desviación estándar muestral =%f'%(mu, sigma))\n",
    "st.norm.fit(x)"
   ]
  },
  {
   "cell_type": "code",
   "execution_count": 42,
   "metadata": {},
   "outputs": [
    {
     "name": "stdout",
     "output_type": "stream",
     "text": [
      "Valor de chi cuadrado teorico  =  41.674561899343004\n",
      "Valor de chi cuadrado librería =  Power_divergenceResult(statistic=41.674561899343004, pvalue=0.9999955451889544)\n",
      "Estadístico de chi_cuadrado =  109.77330935028795\n",
      "Media muestral =  45.02777777777778 \n",
      "Desviación estándar muestral =  24.535871740323657\n"
     ]
    }
   ],
   "source": [
    "pi = st.norm.pdf(x,loc=mu,scale=sigma)\n",
    "# Cálculo de la esperanza usando la expresión teórica\n",
    "Ei = x*pi\n",
    "# Cálculo teórico de la chi cuadrada\n",
    "x2 = np.sum(list(map(lambda Ei,obs_i:(obs_i-Ei)**2/Ei,Ei,freq)))\n",
    "print('Valor de chi cuadrado teorico  = ',x2)\n",
    "\n",
    "# Cálculo usando la librería estadística de la chi cuadrada\n",
    "X2 = st.chisquare(freq,Ei)\n",
    "print('Valor de chi cuadrado librería = ',X2)\n",
    "\n",
    "# Cálculo de Grados de libertad del estadístico\n",
    "p = 2 # Parámetros estimados con los datos\n",
    "m = J-p-1 # grados de libertad\n",
    "\n",
    "Chi_est = st.chi2.ppf(q = 0.95, df=m)\n",
    "print('Estadístico de chi_cuadrado = ', Chi_est)\n",
    "print('Media muestral = ', mu, '\\nDesviación estándar muestral = ', sigma)"
   ]
  },
  {
   "cell_type": "code",
   "execution_count": 43,
   "metadata": {},
   "outputs": [
    {
     "name": "stderr",
     "output_type": "stream",
     "text": [
      "/opt/anaconda3/lib/python3.7/site-packages/sklearn/model_selection/_search.py:814: DeprecationWarning: The default of the `iid` parameter will change from True to False in version 0.22 and will be removed in 0.24. This will change numeric results when test-set sizes are unequal.\n",
      "  DeprecationWarning)\n"
     ]
    },
    {
     "name": "stdout",
     "output_type": "stream",
     "text": [
      "{'bandwidth': 1.0}\n"
     ]
    },
    {
     "data": {
      "image/png": "[encoded data removed]",
      "text/plain": [
       "<Figure size 1080x504 with 1 Axes>"
      ]
     },
     "metadata": {
      "needs_background": "light"
     },
     "output_type": "display_data"
    }
   ],
   "source": [
    "x3 = datos[\"Age_of_Casualty\"]\n",
    "grid = GridSearchCV(KernelDensity(),\n",
    "                    {'bandwidth': np.linspace(0.1, 1.0, 30)},\n",
    "                    cv=20) # 20-fold cross-validation\n",
    "grid.fit(x3[:, None])\n",
    "print(grid.best_params_)\n",
    "x3_grid = np.linspace(0.1, x3.max(), 1000)\n",
    "kde = grid.best_estimator_\n",
    "pdf = np.exp(kde.score_samples(x3_grid[:,None]))\n",
    "\n",
    "fig, ax = plt.subplots(figsize=(15,7))\n",
    "ax.plot(x3_grid, pdf, linewidth=3, alpha=0.5, label='bw=%.2f' % kde.bandwidth)\n",
    "ax.hist(x3, 100, fc='gray', histtype='stepfilled', alpha=0.3, density=True)\n",
    "ax.legend(loc='upper left')\n",
    "ax.set_xlim(18, 90);"
   ]
  },
  {
   "cell_type": "code",
   "execution_count": 64,
   "metadata": {
    "scrolled": true
   },
   "outputs": [
    {
     "data": {
      "text/plain": [
       "<function __main__.kde_sklearn1.<locals>.<lambda>(x)>"
      ]
     },
     "execution_count": 64,
     "metadata": {},
     "output_type": "execute_result"
    }
   ],
   "source": [
    "funcion3 = kde_sklearn1(x3, x3_grid)\n",
    "funcion3"
   ]
  },
  {
   "cell_type": "code",
   "execution_count": 46,
   "metadata": {},
   "outputs": [],
   "source": []
  },
  {
   "cell_type": "code",
   "execution_count": null,
   "metadata": {},
   "outputs": [],
   "source": []
  },
  {
   "cell_type": "code",
   "execution_count": 47,
   "metadata": {},
   "outputs": [
    {
     "data": {
      "text/html": [
       "<div>\n",
       "<style scoped>\n",
       "    .dataframe tbody tr th:only-of-type {\n",
       "        vertical-align: middle;\n",
       "    }\n",
       "\n",
       "    .dataframe tbody tr th {\n",
       "        vertical-align: top;\n",
       "    }\n",
       "\n",
       "    .dataframe thead th {\n",
       "        text-align: right;\n",
       "    }\n",
       "</style>\n",
       "<table border=\"1\" class=\"dataframe\">\n",
       "  <thead>\n",
       "    <tr style=\"text-align: right;\">\n",
       "      <th></th>\n",
       "      <th>Simulaciones</th>\n",
       "    </tr>\n",
       "  </thead>\n",
       "  <tbody>\n",
       "    <tr>\n",
       "      <td>10</td>\n",
       "      <td>39.389779</td>\n",
       "    </tr>\n",
       "    <tr>\n",
       "      <td>1000</td>\n",
       "      <td>36.555188</td>\n",
       "    </tr>\n",
       "    <tr>\n",
       "      <td>10000</td>\n",
       "      <td>37.353685</td>\n",
       "    </tr>\n",
       "    <tr>\n",
       "      <td>100000</td>\n",
       "      <td>37.350458</td>\n",
       "    </tr>\n",
       "    <tr>\n",
       "      <td>1000000</td>\n",
       "      <td>37.315594</td>\n",
       "    </tr>\n",
       "  </tbody>\n",
       "</table>\n",
       "</div>"
      ],
      "text/plain": [
       "         Simulaciones\n",
       "10          39.389779\n",
       "1000        36.555188\n",
       "10000       37.353685\n",
       "100000      37.350458\n",
       "1000000     37.315594"
      ]
     },
     "execution_count": 47,
     "metadata": {},
     "output_type": "execute_result"
    }
   ],
   "source": [
    "n = [10, 1000, 10000, 100000, 1000000]\n",
    "simu_edad_fall = list(map(lambda n:st.norm.rvs(loc=para3[0], scale=para3[1], size=n), n))\n",
    "prob = list(map(lambda x: np.mean(x), simu_edad_fall)) \n",
    "x = pd.DataFrame(data={'Simulaciones':prob}, index=n)\n",
    "x"
   ]
  },
  {
   "cell_type": "code",
   "execution_count": 48,
   "metadata": {},
   "outputs": [
    {
     "data": {
      "image/png": "[encoded data removed]",
      "text/plain": [
       "<Figure size 432x288 with 1 Axes>"
      ]
     },
     "metadata": {
      "needs_background": "light"
     },
     "output_type": "display_data"
    },
    {
     "data": {
      "text/plain": [
       "36.949092484072246"
      ]
     },
     "execution_count": 48,
     "metadata": {},
     "output_type": "execute_result"
    }
   ],
   "source": [
    "N = 1000\n",
    "# Método montecarlo estándar \n",
    "monte_estandar = st.norm.ppf(np.random.rand(N), loc=para3[0], scale=para3[1])\n",
    "plt.hist(monte_estandar,30,density=True, color=\"green\")\n",
    "plt.title('Montecarlo estándar')\n",
    "plt.show()\n",
    "monte_estandar.mean()"
   ]
  },
  {
   "cell_type": "markdown",
   "metadata": {},
   "source": []
  },
  {
   "cell_type": "markdown",
   "metadata": {},
   "source": [
    "## <font color = \"darkgreen\"> Nodo 4: Autos involucrados"
   ]
  },
  {
   "cell_type": "markdown",
   "metadata": {},
   "source": [
    "Por último en este apartado se verán los vehículos que con más recurrencia chocan. Para esto estarán nombrados por números, como se dice enseguida:\n",
    "- Automóvil\t-----> 1\n",
    "- Motocicleta\t-----> 2\n",
    "- Bicicleta\t-----> 3\n",
    "- Camión urbano de pasajeros\t-----> 4\n",
    "- Camioneta de pasajeros\t-----> 5\n",
    "- Camioneta de carga\t-----> 6\n",
    "- Camión de carga\t-----> 7\n",
    "- Microbús\t-----> 8\n",
    "- Ómnibus\t-----> 9\n",
    "- Tren eléctrico o trolebús\t-----> 10"
   ]
  },
  {
   "cell_type": "code",
   "execution_count": 77,
   "metadata": {},
   "outputs": [],
   "source": [
    "vehiculos = datos.iloc[:, 1:2]"
   ]
  },
  {
   "cell_type": "code",
   "execution_count": 78,
   "metadata": {},
   "outputs": [
    {
     "data": {
      "image/png": "[encoded data removed]",
      "text/plain": [
       "<Figure size 432x288 with 1 Axes>"
      ]
     },
     "metadata": {
      "needs_background": "light"
     },
     "output_type": "display_data"
    }
   ],
   "source": [
    "hist_vehiculos = vehiculos.plot.hist(grid=True, bins=6, rwidth=.9, color='purple')"
   ]
  },
  {
   "cell_type": "code",
   "execution_count": 79,
   "metadata": {},
   "outputs": [
    {
     "name": "stdout",
     "output_type": "stream",
     "text": [
      "La media es  =  Number_of_Vehicles    2.460076\n",
      "dtype: float64\n",
      "La desviación estándar es =  Number_of_Vehicles    1.867605\n",
      "dtype: float64\n"
     ]
    }
   ],
   "source": [
    "mu = np.mean(vehiculos)\n",
    "sigma = np.std(vehiculos)\n",
    "print(\"La media es  = \", mu)\n",
    "print(\"La desviación estándar es = \", sigma)"
   ]
  },
  {
   "cell_type": "code",
   "execution_count": 80,
   "metadata": {},
   "outputs": [
    {
     "data": {
      "text/plain": [
       "('norm', (0.0, 1.0))"
      ]
     },
     "execution_count": 80,
     "metadata": {},
     "output_type": "execute_result"
    }
   ],
   "source": [
    "best_fit_distribution(vehiculos)"
   ]
  },
  {
   "cell_type": "code",
   "execution_count": 81,
   "metadata": {},
   "outputs": [
    {
     "data": {
      "text/plain": [
       "1.4600760456273765"
      ]
     },
     "execution_count": 81,
     "metadata": {},
     "output_type": "execute_result"
    }
   ],
   "source": [
    "para4 = st.expon.fit(np.asarray(datos['Number_of_Vehicles']))\n",
    "para4[1]"
   ]
  },
  {
   "cell_type": "code",
   "execution_count": 82,
   "metadata": {},
   "outputs": [
    {
     "data": {
      "image/png": "[encoded data removed]",
      "text/plain": [
       "<Figure size 432x288 with 1 Axes>"
      ]
     },
     "metadata": {
      "needs_background": "light"
     },
     "output_type": "display_data"
    },
    {
     "data": {
      "image/png": "[encoded data removed]",
      "text/plain": [
       "<Figure size 432x288 with 1 Axes>"
      ]
     },
     "metadata": {
      "needs_background": "light"
     },
     "output_type": "display_data"
    }
   ],
   "source": [
    "# Histograma de las variables creadas\n",
    "divisiones = 50  # Cantidad de barras en el histograma\n",
    "plt.hist(datos['Number_of_Vehicles'], divisiones, density=True, label='Número de vehículos')\n",
    "x = np.arange(0,10,.1)\n",
    "y = st.expon.pdf(x, loc = para4[0], scale=para4[1])\n",
    "plt.plot(x, y, 'k--', label='Número de vehículos')\n",
    "plt.ylabel('Probability')\n",
    "plt.grid()\n",
    "plt.show()\n",
    "\n",
    "# Gráfica de Q-Q entre las muestras creadas \n",
    "grap1 = st.probplot(datos['Number_of_Vehicles'], (para4[0],para4[1]), dist=\"expon\", plot=plt)\n",
    "plt.grid()\n",
    "plt.show()"
   ]
  },
  {
   "cell_type": "code",
   "execution_count": 83,
   "metadata": {},
   "outputs": [
    {
     "data": {
      "text/plain": [
       "<matplotlib.axes._subplots.AxesSubplot at 0x1c1d53e8d0>"
      ]
     },
     "execution_count": 83,
     "metadata": {},
     "output_type": "execute_result"
    },
    {
     "data": {
      "image/png": "[encoded data removed]",
      "text/plain": [
       "<Figure size 720x432 with 1 Axes>"
      ]
     },
     "metadata": {
      "needs_background": "light"
     },
     "output_type": "display_data"
    }
   ],
   "source": [
    "f, axes = plt.subplots(figsize=(10, 6))\n",
    "# Plot a simple histogram with binsize determined automatically\n",
    "sns.distplot(vehiculos, color=\"purple\", fit=st.expon)"
   ]
  },
  {
   "cell_type": "code",
   "execution_count": 87,
   "metadata": {
    "scrolled": true
   },
   "outputs": [
    {
     "name": "stderr",
     "output_type": "stream",
     "text": [
      "/opt/anaconda3/lib/python3.7/site-packages/sklearn/model_selection/_search.py:814: DeprecationWarning: The default of the `iid` parameter will change from True to False in version 0.22 and will be removed in 0.24. This will change numeric results when test-set sizes are unequal.\n",
      "  DeprecationWarning)\n"
     ]
    },
    {
     "data": {
      "image/png": "[encoded data removed]",
      "text/plain": [
       "<Figure size 432x288 with 1 Axes>"
      ]
     },
     "metadata": {
      "needs_background": "light"
     },
     "output_type": "display_data"
    },
    {
     "data": {
      "text/plain": [
       "(array([3.98683234e-18, 9.67919359e-18, 2.32694080e-17, 5.53944744e-17,\n",
       "        1.30581758e-16, 3.04813033e-16, 7.04562470e-16, 1.61265116e-15,\n",
       "        3.65507519e-15, 8.20327274e-15, 1.82311028e-14, 4.01211788e-14,\n",
       "        8.74317925e-14, 1.88668777e-13, 4.03149048e-13, 8.53033719e-13,\n",
       "        1.78731752e-12, 3.70827710e-12, 7.61864260e-12, 1.54995103e-11,\n",
       "        3.12243427e-11, 6.22878856e-11, 1.23040709e-10, 2.40673912e-10,\n",
       "        4.66169829e-10, 8.94116812e-10, 1.69816276e-09, 3.19373826e-09,\n",
       "        5.94777158e-09, 1.09684231e-08, 2.00294519e-08, 3.62183689e-08,\n",
       "        6.48520434e-08, 1.14988232e-07, 2.01891521e-07, 3.51008569e-07,\n",
       "        6.04299606e-07, 1.03020074e-06, 1.73910722e-06, 2.90713910e-06,\n",
       "        4.81216179e-06, 7.88768545e-06, 1.28024739e-05, 2.05765789e-05,\n",
       "        3.27481970e-05, 5.16103224e-05, 8.05416837e-05, 1.24462864e-04,\n",
       "        1.90455637e-04, 2.88591027e-04, 4.33018820e-04, 6.43377211e-04,\n",
       "        9.46584807e-04, 1.37907644e-03, 1.98953738e-03, 2.84217504e-03,\n",
       "        4.02054097e-03, 5.63187644e-03, 7.81190040e-03, 1.07298890e-02,\n",
       "        1.45938110e-02, 1.96551861e-02, 2.62132310e-02, 3.46177554e-02,\n",
       "        4.52701786e-02, 5.86219776e-02, 7.51698488e-02, 9.54469031e-02,\n",
       "        1.20009316e-01, 1.49418040e-01, 1.84215454e-01, 2.24897197e-01,\n",
       "        2.71879822e-01, 3.25465430e-01, 3.85804873e-01, 4.52861609e-01,\n",
       "        5.26378638e-01, 6.05851184e-01, 6.90507849e-01, 7.79302792e-01,\n",
       "        8.70921073e-01, 9.63798663e-01, 1.05615776e+00, 1.14605701e+00,\n",
       "        1.23145517e+00, 1.31028552e+00, 1.38053757e+00, 1.44034151e+00,\n",
       "        1.48805051e+00, 1.52231605e+00, 1.54215112e+00, 1.54697748e+00,\n",
       "        1.53665370e+00, 1.51148198e+00, 1.47219350e+00, 1.41991312e+00,\n",
       "        1.35610589e+00, 1.28250890e+00, 1.20105287e+00, 1.11377846e+00,\n",
       "        1.02275229e+00, 9.29987393e-01, 8.37372347e-01, 7.46612269e-01,\n",
       "        6.59183888e-01, 5.76305812e-01, 4.98923969e-01, 4.27711268e-01,\n",
       "        3.63079701e-01, 3.05202580e-01, 2.54044260e-01, 2.09394623e-01,\n",
       "        1.70905728e-01, 1.38128300e-01, 1.10546161e-01, 8.76071640e-02,\n",
       "        6.87496562e-02, 5.34239990e-02, 4.11090282e-02, 3.13236946e-02,\n",
       "        2.36343524e-02, 1.76583201e-02, 1.30644166e-02, 9.57118276e-03,\n",
       "        6.94346350e-03, 4.98794518e-03, 3.54815165e-03, 2.49929615e-03,\n",
       "        1.74328529e-03, 1.20407857e-03, 8.23527140e-04, 5.57751501e-04,\n",
       "        3.74068749e-04, 2.48445877e-04, 1.63433339e-04, 1.06521244e-04,\n",
       "        6.88562551e-05, 4.42585259e-05, 2.84828995e-05, 1.86756402e-05,\n",
       "        1.29860046e-05, 1.03002984e-05, 1.00742118e-05, 1.22469867e-05,\n",
       "        1.72283158e-05, 2.59558761e-05, 4.00282093e-05, 6.19244001e-05,\n",
       "        9.53287645e-05, 1.45585523e-04, 2.20315007e-04, 3.30228977e-04,\n",
       "        4.90187436e-04, 7.20542041e-04, 1.04881061e-03, 1.51172177e-03,\n",
       "        2.15765694e-03, 3.04949668e-03, 4.26784851e-03, 5.91459239e-03,\n",
       "        8.11662748e-03, 1.10296407e-02, 1.48416462e-02, 1.97759675e-02,\n",
       "        2.60932609e-02, 3.40921137e-02, 4.41077043e-02, 5.65079997e-02,\n",
       "        7.16869936e-02, 9.00545697e-02, 1.12022716e-01, 1.37988023e-01,\n",
       "        1.68310667e-01, 2.03290388e-01, 2.43140331e-01, 2.87959966e-01,\n",
       "        3.37708646e-01, 3.92181586e-01, 4.50990270e-01, 5.13549250e-01,\n",
       "        5.79071220e-01, 6.46571884e-01, 7.14885692e-01, 7.82692816e-01,\n",
       "        8.48557048e-01, 9.10973400e-01, 9.68423458e-01, 1.01943575e+00,\n",
       "        1.06264786e+00, 1.09686667e+00, 1.12112299e+00, 1.13471719e+00,\n",
       "        1.13725267e+00, 1.12865509e+00, 1.10917605e+00, 1.07938076e+00,\n",
       "        1.04012089e+00, 9.92494059e-01, 9.37792960e-01, 8.77447164e-01,\n",
       "        8.12961418e-01, 7.45854045e-01, 6.77598939e-01, 6.09574147e-01,\n",
       "        5.43019363e-01, 4.79003896e-01, 4.18405832e-01, 3.61902320e-01,\n",
       "        3.09970212e-01, 2.62895714e-01, 2.20791325e-01, 1.83618087e-01,\n",
       "        1.51211168e-01, 1.23306857e-01, 9.95693207e-02, 7.96157176e-02,\n",
       "        6.30386694e-02, 4.94254025e-02, 3.83732291e-02, 2.95013189e-02,\n",
       "        2.24589512e-02, 1.69306045e-02, 1.26383510e-02, 9.34207425e-03,\n",
       "        6.83803267e-03, 4.95625891e-03, 3.55722849e-03, 2.52815977e-03,\n",
       "        1.77923078e-03, 1.23992430e-03, 8.55644688e-04, 5.84693005e-04,\n",
       "        3.95640299e-04, 2.65104316e-04, 1.75910378e-04, 1.15601694e-04,\n",
       "        7.52561187e-05, 4.85636634e-05, 3.11201777e-05, 1.98963425e-05,\n",
       "        1.28462272e-05, 8.62544038e-06, 6.39475721e-06, 5.69071524e-06,\n",
       "        6.34986907e-06, 8.47814103e-06, 1.24610436e-05, 1.90145610e-05,\n",
       "        2.92802570e-05, 4.49717864e-05, 6.85834577e-05, 1.03674756e-04,\n",
       "        1.55247635e-04, 2.30235666e-04, 3.38125319e-04, 4.91729316e-04,\n",
       "        7.08129307e-04, 1.00979948e-03, 1.42591323e-03, 1.99382101e-03,\n",
       "        2.76066844e-03, 3.78509956e-03, 5.13896107e-03, 6.90889041e-03,\n",
       "        9.19763637e-03, 1.21249267e-02, 1.58276691e-02, 2.04592522e-02,\n",
       "        2.61877089e-02, 3.31925186e-02, 4.16598655e-02, 5.17762358e-02,\n",
       "        6.37203331e-02, 7.76534143e-02, 9.37082932e-02, 1.11977419e-01,\n",
       "        1.32500597e-01, 1.55253060e-01, 1.80134731e-01, 2.06961564e-01,\n",
       "        2.35459866e-01, 2.65264445e-01, 2.95921246e-01, 3.26894944e-01,\n",
       "        3.57581643e-01, 3.87326473e-01, 4.15445540e-01, 4.41251276e-01,\n",
       "        4.64079946e-01, 4.83319795e-01, 4.98438199e-01, 5.09006124e-01,\n",
       "        5.14718349e-01, 5.15408110e-01, 5.11055185e-01, 5.01786883e-01,\n",
       "        4.87871853e-01, 4.69707155e-01, 4.47799437e-01, 4.22741481e-01,\n",
       "        3.95185625e-01, 3.65815723e-01, 3.35319300e-01, 3.04361480e-01,\n",
       "        2.73562005e-01, 2.43476372e-01, 2.14581769e-01, 1.87268087e-01,\n",
       "        1.61833967e-01, 1.38487489e-01, 1.17350881e-01, 9.84684550e-02,\n",
       "        8.18168672e-02, 6.73168092e-02, 5.48452667e-02, 4.42476018e-02,\n",
       "        3.53488488e-02, 2.79637729e-02, 2.19054013e-02, 1.69918871e-02,\n",
       "        1.30516965e-02, 9.92721151e-03, 7.47691661e-03, 5.57638504e-03,\n",
       "        4.11829947e-03, 3.01174397e-03, 2.18098729e-03, 1.56395114e-03,\n",
       "        1.11052467e-03, 7.80851175e-04, 5.43680153e-04, 3.74847122e-04,\n",
       "        2.55918265e-04, 1.73016387e-04, 1.15829357e-04, 7.67915246e-05,\n",
       "        5.04218828e-05, 3.27993195e-05, 2.11542143e-05, 1.35563136e-05,\n",
       "        8.68056455e-06, 5.63497020e-06, 3.83716765e-06, 2.92910153e-06,\n",
       "        2.72172158e-06, 3.16400705e-06, 4.33280325e-06, 6.44196804e-06,\n",
       "        9.87120847e-06, 1.52167829e-05, 2.33679784e-05, 3.56149527e-05,\n",
       "        5.37951120e-05, 8.04866035e-05, 1.19258576e-04, 1.74988400e-04,\n",
       "        2.54255750e-04, 3.65822012e-04, 5.21200464e-04, 7.35317770e-04,\n",
       "        1.02726009e-03, 1.42108734e-03, 1.94668687e-03, 2.64062292e-03,\n",
       "        3.54692197e-03, 4.71771645e-03, 6.21365290e-03, 8.10395645e-03,\n",
       "        1.04660345e-02, 1.33845008e-02, 1.69495101e-02, 2.12543131e-02,\n",
       "        2.63919787e-02, 3.24512765e-02, 3.95117779e-02, 4.76383063e-02,\n",
       "        5.68749473e-02, 6.72389086e-02, 7.87145936e-02, 9.12483067e-02,\n",
       "        1.04744041e-01, 1.19060798e-01, 1.34011851e-01, 1.49366285e-01,\n",
       "        1.64853019e-01, 1.80167389e-01, 1.94980159e-01, 2.08948668e-01,\n",
       "        2.21729639e-01, 2.32992985e-01, 2.42435880e-01, 2.49796241e-01,\n",
       "        2.54864799e-01, 2.57494981e-01, 2.57609951e-01, 2.55206337e-01,\n",
       "        2.50354400e-01, 2.43194616e-01, 2.33930925e-01, 2.22821079e-01,\n",
       "        2.10164744e-01, 1.96290104e-01, 1.81539821e-01, 1.66257159e-01,\n",
       "        1.50773064e-01, 1.35394842e-01, 1.20396935e-01, 1.06014117e-01,\n",
       "        9.24372295e-02, 7.98114306e-02, 6.82367328e-02, 5.77705241e-02,\n",
       "        4.84316588e-02, 4.02056729e-02, 3.30506709e-02, 2.69034626e-02,\n",
       "        2.16855795e-02, 1.73088749e-02, 1.36804883e-02, 1.07070373e-02,\n",
       "        8.29797233e-03, 6.36809604e-03, 4.83929594e-03, 3.64157880e-03,\n",
       "        2.71351481e-03, 2.00221005e-03, 1.46292490e-03, 1.05844766e-03,\n",
       "        7.58318614e-04, 5.37983609e-04, 3.77938773e-04, 2.62911233e-04,\n",
       "        1.81105937e-04, 1.23536021e-04, 8.34441714e-05, 5.58150002e-05,\n",
       "        3.69732934e-05, 2.42598292e-05, 1.57748490e-05, 1.01788444e-05,\n",
       "        6.54073117e-06, 4.22441135e-06, 2.80596993e-06, 2.01511649e-06,\n",
       "        1.69587777e-06, 1.78289721e-06, 2.29098418e-06, 3.31677778e-06,\n",
       "        5.05256575e-06, 7.81345263e-06, 1.20802235e-05, 1.85614104e-05,\n",
       "        2.82792284e-05, 4.26851603e-05, 6.38119700e-05, 9.44696678e-05,\n",
       "        1.38493290e-04, 2.01050044e-04, 2.89012151e-04, 4.11399308e-04,\n",
       "        5.79890746e-04, 8.09401177e-04, 1.11870729e-03, 1.53110181e-03,\n",
       "        2.07504074e-03, 2.78473673e-03, 3.70063807e-03, 4.86972050e-03,\n",
       "        6.34550825e-03, 8.18773437e-03, 1.04615499e-02, 1.32361984e-02,\n",
       "        1.65830902e-02, 2.05732361e-02, 2.52740425e-02, 3.07455146e-02,\n",
       "        3.70359744e-02, 4.41774596e-02, 5.21810310e-02, 6.10322704e-02,\n",
       "        7.06872931e-02, 8.10696187e-02, 9.20682446e-02, 1.03537232e-01,\n",
       "        1.15297049e-01, 1.27137827e-01, 1.38824569e-01, 1.50104197e-01,\n",
       "        1.60714216e-01, 1.70392590e-01, 1.78888354e-01, 1.85972353e-01,\n",
       "        1.91447482e-01, 1.95157787e-01, 1.96995845e-01, 1.96907927e-01,\n",
       "        1.94896611e-01, 1.91020655e-01, 1.85392144e-01, 1.78171106e-01,\n",
       "        1.69557959e-01, 1.59784276e-01, 1.49102474e-01, 1.37775062e-01,\n",
       "        1.26064074e-01, 1.14221277e-01, 1.02479651e-01, 9.10464925e-02,\n",
       "        8.00983842e-02, 6.97781169e-02, 6.01935128e-02, 5.14179889e-02,\n",
       "        4.34926067e-02, 3.64292930e-02, 3.02148890e-02, 2.48156820e-02,\n",
       "        2.01821014e-02, 1.62532982e-02, 1.29613900e-02, 1.02352065e-02,\n",
       "        8.00343814e-03, 6.19714317e-03, 4.75161693e-03, 3.60766552e-03,\n",
       "        2.71235209e-03, 2.01929987e-03, 1.48864289e-03, 1.08671382e-03,\n",
       "        7.85551778e-04, 5.62301720e-04, 3.98564861e-04, 2.79745867e-04,\n",
       "        1.94430161e-04, 1.33813348e-04, 9.11953280e-05, 6.15442041e-05,\n",
       "        4.11295626e-05, 2.72209241e-05, 1.78448477e-05, 1.15930445e-05,\n",
       "        7.47359244e-06, 4.79770168e-06, 3.09521544e-06, 2.05298680e-06,\n",
       "        1.47131395e-06, 1.23466662e-06, 1.29394868e-06, 1.65849745e-06,\n",
       "        2.39692145e-06, 3.64673705e-06, 5.63360009e-06, 8.70175534e-06,\n",
       "        1.33581522e-05, 2.03334924e-05, 3.06642535e-05, 4.58004189e-05,\n",
       "        6.77441485e-05, 9.92248244e-05, 1.43915650e-04, 2.06696068e-04,\n",
       "        2.93962502e-04, 4.13987114e-04, 5.77320188e-04, 7.97226358e-04,\n",
       "        1.09013810e-03, 1.47610193e-03, 1.97918381e-03, 2.62779128e-03,\n",
       "        3.45486085e-03, 4.49785246e-03, 5.79848857e-03, 7.40217519e-03,\n",
       "        9.35704822e-03, 1.17126005e-02, 1.45178647e-02, 1.78191554e-02,\n",
       "        2.16574060e-02, 2.60651793e-02, 3.10634686e-02, 3.66584530e-02,\n",
       "        4.28384031e-02, 4.95709642e-02, 5.68010565e-02, 6.44496280e-02,\n",
       "        7.24134719e-02, 8.05662741e-02, 8.87609911e-02, 9.68335737e-02,\n",
       "        1.04607960e-01, 1.11902157e-01, 1.18535145e-01, 1.24334247e-01,\n",
       "        1.29142549e-01, 1.32825940e-01, 1.35279314e-01, 1.36431559e-01,\n",
       "        1.36248975e-01, 1.34736915e-01, 1.31939523e-01, 1.27937593e-01,\n",
       "        1.22844691e-01, 1.16801808e-01, 1.09970878e-01, 1.02527596e-01,\n",
       "        9.46539643e-02, 8.65310147e-02, 7.83320944e-02, 7.02170590e-02,\n",
       "        6.23276117e-02, 5.47839434e-02, 4.76827229e-02, 4.10963981e-02,\n",
       "        3.50736873e-02, 2.96410815e-02, 2.48051364e-02, 2.05553155e-02,\n",
       "        1.68671470e-02, 1.37054742e-02, 1.10276115e-02, 8.78625492e-03,\n",
       "        6.93204059e-03, 5.41568441e-03, 4.18967712e-03, 3.20953942e-03,\n",
       "        2.43466845e-03, 1.82882393e-03, 1.36031322e-03, 1.00193811e-03,\n",
       "        7.30765149e-04, 5.27776099e-04, 3.77447523e-04, 2.67299678e-04,\n",
       "        1.87445644e-04, 1.30162989e-04, 8.95025500e-05, 6.09425141e-05,\n",
       "        4.10909282e-05, 2.74360622e-05, 1.81415225e-05, 1.18815067e-05,\n",
       "        7.71085681e-06, 4.96444050e-06, 3.18065367e-06, 2.04436494e-06,\n",
       "        1.34528027e-06, 9.48418902e-07, 7.74099293e-07, 7.85508148e-07,\n",
       "        9.82552684e-07, 1.40127689e-06, 2.11866520e-06, 3.26317297e-06,\n",
       "        5.03182274e-06, 7.71519449e-06, 1.17321129e-05, 1.76762810e-05,\n",
       "        2.63774936e-05, 3.89803421e-05, 5.70434184e-05, 8.26618564e-05,\n",
       "        1.18615511e-04, 1.68544051e-04, 2.37148601e-04, 3.30417279e-04,\n",
       "        4.55868854e-04, 6.22804954e-04, 8.42556735e-04, 1.12870697e-03,\n",
       "        1.49726341e-03, 1.96675459e-03, 2.55821527e-03, 3.29502684e-03,\n",
       "        4.20257796e-03, 5.30771451e-03, 6.63795472e-03, 8.22045715e-03,\n",
       "        1.00807445e-02, 1.22412058e-02, 1.47194217e-02, 1.75263809e-02,\n",
       "        2.06646808e-02, 2.41268214e-02, 2.78937222e-02, 3.19335931e-02,\n",
       "        3.62012908e-02, 4.06382765e-02, 4.51732626e-02, 4.97236030e-02,\n",
       "        5.41974278e-02, 5.84964776e-02, 6.25195307e-02, 6.61662706e-02,\n",
       "        6.93413924e-02, 7.19587174e-02, 7.39450698e-02, 7.52436729e-02,\n",
       "        7.58168443e-02, 7.56478128e-02, 7.47415329e-02, 7.31244445e-02,\n",
       "        7.08431907e-02, 6.79623833e-02, 6.45615639e-02, 6.07315600e-02,\n",
       "        5.65704699e-02, 5.21795211e-02, 4.76590461e-02, 4.31047923e-02,\n",
       "        3.86047480e-02, 3.42366167e-02, 3.00660180e-02, 2.61454391e-02,\n",
       "        2.25139097e-02, 1.91973311e-02, 1.62093554e-02, 1.35526926e-02,\n",
       "        1.12207112e-02, 9.19920153e-03, 7.46818105e-03, 6.00363798e-03,\n",
       "        4.77913291e-03, 3.76719998e-03, 2.94051362e-03, 2.27280758e-03,\n",
       "        1.73955073e-03, 1.31839783e-03, 9.89443081e-04, 7.35309381e-04,\n",
       "        5.41108495e-04, 3.94306153e-04, 2.84523221e-04, 2.03299752e-04,\n",
       "        1.43843746e-04, 1.00781357e-04, 6.99205304e-05, 4.80358086e-05,\n",
       "        3.26785622e-05, 2.20141761e-05, 1.46857101e-05, 9.70221908e-06,\n",
       "        6.34911478e-06, 4.11758679e-06, 2.65004886e-06, 1.69874308e-06,\n",
       "        1.09493637e-06, 7.26515797e-07, 5.22188030e-07, 4.40883823e-07,\n",
       "        4.65344806e-07, 5.99221694e-07, 8.67340793e-07, 1.31910472e-06,\n",
       "        2.03529016e-06, 3.13879577e-06, 4.81017954e-06, 7.30910390e-06,\n",
       "        1.10030686e-05, 1.64050352e-05, 2.42217040e-05, 3.54142478e-05,\n",
       "        5.12731895e-05, 7.35087597e-05, 1.04357427e-04, 1.46704283e-04,\n",
       "        2.04219522e-04, 2.81505379e-04, 3.84247548e-04, 5.19362357e-04,\n",
       "        6.95128012e-04, 9.21285137e-04, 1.20908907e-03, 1.57129409e-03,\n",
       "        2.02204871e-03, 2.57668129e-03, 3.25135769e-03, 4.06259705e-03,\n",
       "        5.02663906e-03, 6.15866538e-03, 7.47188999e-03, 8.97654648e-03,\n",
       "        1.06788147e-02, 1.25797432e-02, 1.46742344e-02, 1.69501709e-02,\n",
       "        1.93877614e-02, 2.19591844e-02, 2.46285984e-02, 2.73525704e-02,\n",
       "        3.00809498e-02, 3.27581901e-02, 3.53250843e-02, 3.77208499e-02,\n",
       "        3.98854674e-02, 4.17621506e-02, 4.32998089e-02, 4.44553524e-02,\n",
       "        4.51956971e-02, 4.54993377e-02, 4.53573858e-02, 4.47740015e-02,\n",
       "        4.37661916e-02, 4.23629855e-02, 4.06040463e-02, 3.85378094e-02,\n",
       "        3.62192696e-02, 3.37075592e-02, 3.10634635e-02, 2.83470195e-02,\n",
       "        2.56153257e-02, 2.29206704e-02, 2.03090544e-02, 1.78191525e-02,\n",
       "        1.54817247e-02, 1.33194591e-02, 1.13472021e-02, 9.57251265e-03,\n",
       "        7.99646535e-03, 6.61462343e-03, 5.41810159e-03, 4.39464822e-03,\n",
       "        3.52968577e-03, 2.80726186e-03, 2.21087791e-03, 1.72417581e-03,\n",
       "        1.33147584e-03, 1.01816928e-03, 7.70977384e-04, 5.78093709e-04,\n",
       "        4.29229738e-04, 3.15584975e-04, 2.29761782e-04, 1.65643436e-04,\n",
       "        1.18251227e-04, 8.35934254e-05, 5.85158844e-05, 4.05612196e-05,\n",
       "        2.78410029e-05, 1.89233595e-05, 1.27367549e-05, 8.48960019e-06,\n",
       "        5.60453212e-06, 3.66577035e-06, 2.37776000e-06, 1.53329155e-06,\n",
       "        9.89405320e-07, 6.49580008e-07, 4.50940048e-07, 3.55469225e-07,\n",
       "        3.44472378e-07, 4.15775767e-07, 5.83397914e-07, 8.79658866e-07,\n",
       "        1.35993134e-06, 2.11047667e-06, 3.26005521e-06, 4.99625395e-06,\n",
       "        7.58772885e-06, 1.14138009e-05, 1.70030527e-05, 2.50827119e-05,\n",
       "        3.66406342e-05, 5.30015580e-05, 7.59189275e-05, 1.07682902e-04,\n",
       "        1.51244122e-04, 2.10351326e-04, 2.89698984e-04, 3.95078731e-04,\n",
       "        5.33525627e-04, 7.13447260e-04, 9.44720671e-04, 1.23873930e-03,\n",
       "        1.60839001e-03, 2.06793923e-03, 2.63280766e-03, 3.31921547e-03,\n",
       "        4.14368481e-03, 5.12239346e-03, 6.27038359e-03, 7.60064134e-03,\n",
       "        9.12307662e-03, 1.08434470e-02, 1.27622824e-02, 1.48738808e-02,\n",
       "        1.71654501e-02, 1.96164786e-02, 2.21984093e-02, 2.48746865e-02,\n",
       "        2.76012233e-02, 3.03273176e-02, 3.29970126e-02, 3.55508672e-02,\n",
       "        3.79280688e-02, 4.00687888e-02, 4.19166584e-02, 4.34212225e-02,\n",
       "        4.45402236e-02, 4.52415727e-02, 4.55048773e-02, 4.53224268e-02,\n",
       "        4.46995673e-02, 4.36544414e-02, 4.22171105e-02, 4.04281185e-02,\n",
       "        3.83365924e-02, 3.59980056e-02, 3.34717428e-02, 3.08186185e-02,\n",
       "        2.80984886e-02, 2.53680864e-02, 2.26791833e-02, 2.00771501e-02,\n",
       "        1.75999598e-02, 1.52776389e-02, 1.31321477e-02, 1.11776429e-02,\n",
       "        9.42105751e-03, 7.86292322e-03, 6.49835403e-03, 5.31811416e-03,\n",
       "        4.30969859e-03, 3.45836711e-03, 2.74808551e-03, 2.16234181e-03,\n",
       "        1.68481959e-03, 1.29992236e-03, 9.93153505e-04, 7.51363854e-04,\n",
       "        5.62884348e-04, 4.17563953e-04, 3.06733905e-04, 2.23118470e-04,\n",
       "        1.60710490e-04, 1.14627259e-04, 8.09592736e-05, 5.66213765e-05,\n",
       "        3.92129625e-05, 2.68915025e-05, 1.82615967e-05, 1.22802245e-05,\n",
       "        8.17773157e-06, 5.39335595e-06, 3.52366449e-06, 2.28209492e-06,\n",
       "        1.46779385e-06, 9.42061191e-07, 6.10903273e-07, 4.12426666e-07,\n",
       "        3.08046880e-07, 2.76724850e-07, 3.11671637e-07, 4.19175408e-07,\n",
       "        6.19406044e-07, 9.49245206e-07, 1.46737733e-06, 2.26206303e-06,\n",
       "        3.46220124e-06, 5.25246740e-06, 7.89348295e-06, 1.17481127e-05,\n",
       "        1.73150780e-05, 2.52710863e-05, 3.65225717e-05, 5.22678779e-05,\n",
       "        7.40702408e-05, 1.03941206e-04, 1.44433110e-04, 1.98737923e-04,\n",
       "        2.70788173e-04, 3.65353771e-04, 4.88126574e-04, 6.45782488e-04,\n",
       "        8.46009091e-04, 1.09748540e-03, 1.40979973e-03, 1.79329217e-03,\n",
       "        2.25880965e-03, 2.81736536e-03, 3.47969886e-03, 4.25574016e-03,\n",
       "        5.15398917e-03, 6.18083078e-03, 7.33981578e-03, 8.63094640e-03,\n",
       "        1.00500132e-02, 1.15880351e-02, 1.32308554e-02, 1.49589461e-02,\n",
       "        1.67474630e-02, 1.85665842e-02, 2.03821479e-02, 2.21565858e-02,\n",
       "        2.38501264e-02, 2.54222207e-02, 2.68331240e-02, 2.80455489e-02,\n",
       "        2.90262951e-02, 2.97477567e-02, 3.01892129e-02, 3.03378160e-02]),\n",
       " GridSearchCV(cv=20, error_score='raise-deprecating',\n",
       "              estimator=KernelDensity(algorithm='auto', atol=0, bandwidth=1.0,\n",
       "                                      breadth_first=True, kernel='gaussian',\n",
       "                                      leaf_size=40, metric='euclidean',\n",
       "                                      metric_params=None, rtol=0),\n",
       "              iid='warn', n_jobs=None,\n",
       "              param_grid={'bandwidth': array([ 0.1       ,  0.10990991,  0.11981982,  0.12972973,  0.13963964,\n",
       "         0.14954955,  0.15945946,  0.16936937,  0.1792...\n",
       "         9.76216216,  9.77207207,  9.78198198,  9.79189189,  9.8018018 ,\n",
       "         9.81171171,  9.82162162,  9.83153153,  9.84144144,  9.85135135,\n",
       "         9.86126126,  9.87117117,  9.88108108,  9.89099099,  9.9009009 ,\n",
       "         9.91081081,  9.92072072,  9.93063063,  9.94054054,  9.95045045,\n",
       "         9.96036036,  9.97027027,  9.98018018,  9.99009009, 10.        ])},\n",
       "              pre_dispatch='2*n_jobs', refit=True, return_train_score=False,\n",
       "              scoring=None, verbose=0))"
      ]
     },
     "execution_count": 87,
     "metadata": {},
     "output_type": "execute_result"
    }
   ],
   "source": [
    "kernel(datos[\"Number_of_Vehicles\"], \"Vehículos\")"
   ]
  },
  {
   "cell_type": "code",
   "execution_count": 67,
   "metadata": {},
   "outputs": [
    {
     "name": "stdout",
     "output_type": "stream",
     "text": [
      "{'bandwidth': 0.1}\n"
     ]
    },
    {
     "name": "stderr",
     "output_type": "stream",
     "text": [
      "/opt/anaconda3/lib/python3.7/site-packages/sklearn/model_selection/_search.py:814: DeprecationWarning: The default of the `iid` parameter will change from True to False in version 0.22 and will be removed in 0.24. This will change numeric results when test-set sizes are unequal.\n",
      "  DeprecationWarning)\n"
     ]
    }
   ],
   "source": [
    "x4 = datos[\"Number_of_Vehicles\"]\n",
    "grid = GridSearchCV(KernelDensity(),\n",
    "                    {'bandwidth': np.linspace(0.1, 1.0, 30)},\n",
    "                    cv=20) # 20-fold cross-validation\n",
    "grid.fit(x4[:, None])\n",
    "print(grid.best_params_)\n",
    "x4_grid = np.linspace(0.1, x4.max(), 1000)"
   ]
  },
  {
   "cell_type": "code",
   "execution_count": 68,
   "metadata": {},
   "outputs": [
    {
     "data": {
      "text/plain": [
       "<function __main__.kde_sklearn1.<locals>.<lambda>(x)>"
      ]
     },
     "execution_count": 68,
     "metadata": {},
     "output_type": "execute_result"
    }
   ],
   "source": [
    "funcion4 = kde_sklearn1(x4, x4_grid)\n",
    "funcion4"
   ]
  },
  {
   "cell_type": "code",
   "execution_count": 57,
   "metadata": {},
   "outputs": [
    {
     "data": {
      "text/html": [
       "<div>\n",
       "<style scoped>\n",
       "    .dataframe tbody tr th:only-of-type {\n",
       "        vertical-align: middle;\n",
       "    }\n",
       "\n",
       "    .dataframe tbody tr th {\n",
       "        vertical-align: top;\n",
       "    }\n",
       "\n",
       "    .dataframe thead th {\n",
       "        text-align: right;\n",
       "    }\n",
       "</style>\n",
       "<table border=\"1\" class=\"dataframe\">\n",
       "  <thead>\n",
       "    <tr style=\"text-align: right;\">\n",
       "      <th></th>\n",
       "      <th>Simulaciones</th>\n",
       "    </tr>\n",
       "  </thead>\n",
       "  <tbody>\n",
       "    <tr>\n",
       "      <td>10</td>\n",
       "      <td>2.018274</td>\n",
       "    </tr>\n",
       "    <tr>\n",
       "      <td>1000</td>\n",
       "      <td>2.439204</td>\n",
       "    </tr>\n",
       "    <tr>\n",
       "      <td>10000</td>\n",
       "      <td>2.484685</td>\n",
       "    </tr>\n",
       "    <tr>\n",
       "      <td>100000</td>\n",
       "      <td>2.458046</td>\n",
       "    </tr>\n",
       "    <tr>\n",
       "      <td>1000000</td>\n",
       "      <td>2.458558</td>\n",
       "    </tr>\n",
       "  </tbody>\n",
       "</table>\n",
       "</div>"
      ],
      "text/plain": [
       "         Simulaciones\n",
       "10           2.018274\n",
       "1000         2.439204\n",
       "10000        2.484685\n",
       "100000       2.458046\n",
       "1000000      2.458558"
      ]
     },
     "execution_count": 57,
     "metadata": {},
     "output_type": "execute_result"
    }
   ],
   "source": [
    "n = [10,1000,10000,100000,1000000]\n",
    "simu_vehiculos = list(map(lambda n:st.expon.rvs(loc=para4[0], scale=para4[1], size=n), n))\n",
    "prob = list(map(lambda x: np.mean(x), simu_vehiculos)) \n",
    "x = pd.DataFrame(data={'Simulaciones':prob}, index=n)\n",
    "x"
   ]
  },
  {
   "cell_type": "code",
   "execution_count": 58,
   "metadata": {},
   "outputs": [
    {
     "data": {
      "image/png": "[encoded data removed]",
      "text/plain": [
       "<Figure size 432x288 with 1 Axes>"
      ]
     },
     "metadata": {
      "needs_background": "light"
     },
     "output_type": "display_data"
    },
    {
     "data": {
      "text/plain": [
       "2.4329728427454955"
      ]
     },
     "execution_count": 58,
     "metadata": {},
     "output_type": "execute_result"
    }
   ],
   "source": [
    "N = 1000\n",
    "# Método montecarlo estándar \n",
    "monte_estandar = st.expon.ppf(np.random.rand(N), loc=para4[0], scale=para4[1])\n",
    "plt.hist(monte_estandar,10,density=True, color=\"pink\")\n",
    "plt.title('Montecarlo estándar')\n",
    "plt.show()\n",
    "monte_estandar.mean()"
   ]
  },
  {
   "cell_type": "code",
   "execution_count": 59,
   "metadata": {},
   "outputs": [
    {
     "name": "stdout",
     "output_type": "stream",
     "text": [
      "3.998805196885892\n"
     ]
    },
    {
     "data": {
      "image/png": "[encoded data removed]",
      "text/plain": [
       "<Figure size 432x288 with 1 Axes>"
      ]
     },
     "metadata": {
      "needs_background": "light"
     },
     "output_type": "display_data"
    }
   ],
   "source": [
    "theta = 4 # Media\n",
    "N = 10**6 # Número de muestras\n",
    "# creamos muestras exponenciales con la función que esta en numpy\n",
    "x = np.random.exponential(theta,N) \n",
    "# creamos muestras exponenciales con la función creada\n",
    "x2 = D_exponential(theta,N)\n",
    "# Graficamos el historial para x\n",
    "plt.hist(x,100,density=True)\n",
    "plt.xlabel('Valores aleatorios')\n",
    "plt.ylabel('Probabilidad')\n",
    "plt.title('Histograma')\n",
    "print(np.mean(x))\n",
    "plt.show()"
   ]
  },
  {
   "cell_type": "code",
   "execution_count": 60,
   "metadata": {},
   "outputs": [
    {
     "name": "stdout",
     "output_type": "stream",
     "text": [
      "4.001744545520572\n"
     ]
    },
    {
     "data": {
      "image/png": "[encoded data removed]",
      "text/plain": [
       "<Figure size 432x288 with 1 Axes>"
      ]
     },
     "metadata": {
      "needs_background": "light"
     },
     "output_type": "display_data"
    }
   ],
   "source": [
    "theta = 4 # Media\n",
    "N = 10**6 # Número de muestras\n",
    "# creamos muestras exponenciales con la función creada\n",
    "x2 = D_exponential(theta,N)\n",
    "# Graficamos el historial para x\n",
    "plt.hist(x2,100,density=True)\n",
    "plt.xlabel('Valores aleatorios')\n",
    "plt.ylabel('Probabilidad')\n",
    "plt.title('Histograma')\n",
    "print(np.mean(x2))\n",
    "plt.show()"
   ]
  },
  {
   "cell_type": "code",
   "execution_count": null,
   "metadata": {},
   "outputs": [],
   "source": []
  }
 ],
 "metadata": {
  "kernelspec": {
   "display_name": "Python 3",
   "language": "python",
   "name": "python3"
  },
  "language_info": {
   "codemirror_mode": {
    "name": "ipython",
    "version": 3
   },
   "file_extension": ".py",
   "mimetype": "text/x-python",
   "name": "python",
   "nbconvert_exporter": "python",
   "pygments_lexer": "ipython3",
   "version": "3.7.4"
  }
 },
 "nbformat": 4,
 "nbformat_minor": 2
}
