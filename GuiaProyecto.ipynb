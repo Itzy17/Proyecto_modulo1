{
 "cells": [
  {
   "cell_type": "markdown",
   "metadata": {},
   "source": [
    "<img style=\"float: right; margin: 0px 0px 15px 15px;\" src=\"https://upload.wikimedia.org/wikipedia/commons/b/b6/Proyecto_en_construccion.jpg\" width=\"300px\" height=\"100px\" />\n",
    "\n",
    "\n",
    "# Proyecto Módulo 2- Guía.\n",
    "> Se especifican los componentes básicos que deberá tener cada proyecto. El proyecto debe ser un problema que utilice datos reales, ya sea de una empresa física real o de alguna página de internet que proporcione bases de datos confiables. Con la información obtenida, se pretende utilizar todas las herramientas vistas durante el curso para la correcta modelación y simulación del cierto problema con ciertas variables de interés."
   ]
  },
  {
   "cell_type": "markdown",
   "metadata": {},
   "source": [
    "___\n",
    "## 1. Entregable.\n",
    "Los trabajos deben tener los siguientes componentes básicos.\n",
    "\n",
    "### 1.1 Título del trabajo.\n",
    "> Debe describir el trabajo.\n",
    "\n",
    "### 1.2 Objetivos.\n",
    "> - Se refieren a los propósitos por los cuales se hace el trabajo.\n",
    "> - Deben ser concretos, evaluables y verificables.\n",
    "> - Deben ser escritos en infinitivo.\n",
    "> #### 1.1 Objetivo general.\n",
    ">  - Fin último de estudio. Se formula atendiendo el propósito global del trabajo. No presenta detalles.\n",
    ">  - Se orienta a la totalidad del trabajo. Tiene que ver con el título del trabajo.\n",
    "> #### 1.2 Objetivos específicos\n",
    ">  - De forma detallada describen cada una de los componentes del trabajo.\n",
    ">  - En conjunto garantizan la consecución del objetivo general.\n",
    "\n",
    "Referencia:\n",
    "- https://es.slideshare.net/rosbur/metodologia-objetivos-generales-y-especficos\n",
    "\n",
    "### 1.3 Definición del problema.\n",
    "> Se debe describir en una cuartilla máximo cuál es el escenario de negocio que se va a modelar, identificar cuáles son los supuestos que defines en el negocio y cuáles son los \"nodos\" o \"escenarios\" que identificas necesarios simular y porqué. Debes elaborar un diagrama de inicio a fin, identificando los \"nodos\" o \"escenarios\" a simular.\n",
    "\n",
    "### 1.4 Nodos y variables que se decidieron simular y porqué\n",
    "> En este apartado el objetivo es identificar los problemas que se van a abordar, para examinar la factibilidad y viabilidad de la simulación de los nodos escogidos. Posteriormente se debe de argumentar del porqué de los nodos escogidos.\n",
    "\n",
    "### 1.5 Definición de hipótesis y supuestos.\n",
    ">  Para poder modelar un proceso de negocio o cualquiera otro proceso en el área de las ingenierías o ciencias sociales, después de identificar el objeto de estudio, es importante indicar cuales son los supuestos que se dan por verdaderos a lo largo de la ejecución del proceso. Estos supuestos se deben indicar en forma de variables e hipótesis (son diferentes), porque si puedes definir en un valor el supuesto lo llamaremos \"supuesto constante\" y si no es posible identificarlo con un número entonces será una hipótesis que afectará la construcción de los escenarios posibles del proceso.\n",
    "\n",
    "### 1.6 Obtención de bases de datos\n",
    "> El tercer paso del proyecto es indicar de dónde se obtendrán las bases de datos, que indican como se han comportado las variables que identificaste en tu proceso de negocio que vas a simular. En esta investigación debes haber encontrado información propia de la empresa, organización o institución que vas a simular y otra parte de la información debe provenir de investigación que realices en fuentes de información públicas o privadas como las que tiene SECOBI, ahí normalmente y dependiendo del problema elegido, se investigan variables económicas, como tasas de interés, inflación, tipo de cambio, etc., de varios años, por poner un ejemplo.\n",
    "\n",
    "### 1.7 Visualización de resultados de simulación.\n",
    "> Se deben simular al menos 4  \"nodos\" o \"escenarios\" en tu problema. Para la segunda entrega debes haber elaborado un programa que simule dos de ellos, los primeros dos de tu diagrama.\n",
    "> Para la entrega final deben de tener los 4 nodos con todas sus simulaciones.\n",
    "\n",
    "### 1.8 Conclusiones.\n",
    "> Mucho cuidado, las conclusiones no son cualquier cosa. Se debe concluir respecto a los objetivos planteados de acuerdo a los resultados obtenidos.\n",
    "\n",
    "### 1.9 Referencias.\n",
    "> Citar (en formato APA) la bibliografía utilizada."
   ]
  },
  {
   "cell_type": "markdown",
   "metadata": {},
   "source": [
    "___\n",
    "## 2. Especificaciones adicionales.\n",
    "En el grupo deben haber mínimo dos integrantes y máximo tres integrantes. Para propósitos logísticos nada más, por favor enumérense como *integrante 1*, *integrante 2* e *integrante 3*.\n",
    "\n",
    "### 2.1 Notebook de jupyter. \n",
    "> Los anteriores numerales los deben desarrollar todos en un notebook de jupyter y llamarlo de la siguiente manera `ProyectoModulo1_ApellidoN1_ApellidoN2_ApellidoN3`, donde `ApellidoNi` hace referencia al apellido materno y la inicial del primer nombre del integrante `i`.\n",
    "\n",
    "### 2.2 Proyecto en `GitHub`.\n",
    "> El integrante 1 deberá crear un proyecto en `GitHub` llamado **proyecto_modulo1**, donde tendrán todos los archivos relacionados con el proyecto. Los demás integrantes deben hacer un *fork* del proyecto, seguir el proyecto principal con `GitKraken` y hacer al menos dos contribuciones con *pull request* (como se hizo en la tarea). En el proyecto, deben incluir el repositorio remoto del integrante 1.\n",
    "\n",
    "### 2.3 Presentación.\n",
    "> Recuerden que la nota del proyecto es mitad el trabajo, y mitad la presentación. Deben hacer una presentación ya sea en power point o utlizando un notebook de python para presentar el trabajo durante un horario de clase que se será posteriomente definido. La presentación, además de llevar todos los componentes básicos descritos en el entregable, debe llevar una tabla de contenido.\n",
    "> - Presentación: 10 minutos.\n",
    "> - Seguir estas recomendaciones: https://es.slideshare.net/MeireComputacion/power-point-pautas-para-una-buen-trabajo"
   ]
  },
  {
   "cell_type": "markdown",
   "metadata": {},
   "source": [
    "### 1.5 Definición de hipótesis y supuestos.\n",
    "\n",
    "Accidentes Automovilísticos en  México, centrándonos en las victimas, autos involucrados, sexo y edad.\n",
    "\n",
    "> Un gran porcentaje de los accidentes automovilísticos son ocasionados debido a las malas condiciones del auto (mal funcionamiento de frenos, averías en el motor, fuga de gasolina, llantas viejas, etc). Sin embargo, otro factor importante causante de estos accidentes es que no se respetan las señales de tránsito, como pasarse un alto, ir a exceso de velocidad, uso de celular, maquillaje, música, etc.\n",
    "\n",
    "> Otra causa importante que se puede mencionar es el descuido por parte del conductor cuando no centra toda su atención en la calle o se encuentra haciendo otras actividades, que impiden una buena conducción del automóvil.\n",
    "\n",
    "> Se realizará un análisis para poder plantear soluciones que eviten los accidentes automovilísticos.\n",
    "\n",
    "#### Objetivo\n",
    "\n",
    "> El objetivo principal de este proyecto es ofrecer al lector información sobre los accidentes automovilísticos con altos índices de muertes y lo que es más alarmante, que los adolescentes y adultos jovenes son los más involucrados en ellos.\n",
    "\n",
    "> Así como también por medio de este trabajo se planea conocer todas las causas de los accidentes y de alguna forma tratar de evitarlos. A través de esta investigación se pretende evitar a toda costa que estos terribles accidentes sigan sucediendo, realizando campañas que estén dirigidas a los jóvenes de preparatoria y a los jóvenes universitarios, para sí poder reducir el índice de los accidentes producidos por éstos.\n",
    "\n",
    "#### Justificación\n",
    "\n",
    "Actualmente hay una gran gama de problemas que existen a nivel mundial, continental, nacional, estatal, local, familiar, y personal. Sin embargo la razón por la que decidimos centrarnos en el tema: ACCIDENTES AUTOMOVILÍSTICOS, es debido a que las estadísticas de accidentes automovilísticos son alarmantes. Los Accidentes automovilísticos se deben a la combinación de diversos factores. Y, si se pretende solucionar el problema, es básico que se conozca las causas y consecuencias del problema, y una vez conociendo las características de la problemática podemos proponer más y mejores soluciones.\n",
    "\n",
    "Es muy triste que a pesar de los avances de la medicina, y tecnología en los autos, las muertes por accidentes automovilísticos se hayan convertido en uno de los más graves problemas de salud pública.\n",
    "\n",
    "Este problema, es un asunto que a todos nos concierne, pues todos hemos experimentado este problema ya sea en nuestra persona, o algún conocido.\n",
    "\n",
    "Se han llevado acabo diversas investigaciones sobre accidentes automovilísticos, sin embargo, no hemos logrado solucionar este problema. No podemos permitir que las cifras de accidentes automovilísticos sigan creciendo, es por ello que decidimos hablar sobre este tema, para poder brindar información y por supuesto poder plantear posibles soluciones.\n",
    "\n",
    "#### Hipótesis\n",
    "\n",
    "Mediante la recopilación y el análisis de la información presentada anteriormente, podríamos concluir en la siguiente hipótesis:\n",
    "\n",
    "> Los accidentes de tránsito, su marcado incremento en las últimas décadas y la alarmante diferencia entre la cantidad de accidentes en Mexico en comparación con otros países, se debe, mayormente, a la inconsciencia e irresponsabilidad de cada uno de los individuos que forman parte de los sistemas de transporte; ya sea, refiriéndose a los conductores de motos, automoviles particulares, colectivos, camiones, etc; como también, haciendo referencia al peatón.\n",
    "\n",
    "> La mayoría de los conductores, han tenido accidentes automovilísticos debido a que no respetan las señales de tránsito o usan sus telefonos mientras estan manejando."
   ]
  }
 ],
 "metadata": {
  "kernelspec": {
   "display_name": "Python 3",
   "language": "python",
   "name": "python3"
  },
  "language_info": {
   "codemirror_mode": {
    "name": "ipython",
    "version": 3
   },
   "file_extension": ".py",
   "mimetype": "text/x-python",
   "name": "python",
   "nbconvert_exporter": "python",
   "pygments_lexer": "ipython3",
   "version": "3.7.4"
  }
 },
 "nbformat": 4,
 "nbformat_minor": 2
}
